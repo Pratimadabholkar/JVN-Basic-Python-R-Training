{
 "cells": [
  {
   "cell_type": "markdown",
   "metadata": {},
   "source": [
    "**Lecture list**\n",
    "\n",
    "1. Introduction to Python\n",
    "\n",
    "2. **The Python Standard Library, if/loops statements**\n",
    "    * Some useful and basic built-in functions (abs, etc.)\n",
    "    * How to use import to import libraries (ex: math, random). We will introduce you several basic libraries that are often used in Python.\n",
    "    * Introduce Comparison and Boolean Operators (if/else/while/for)\n",
    "    * Students are also introduced the concept of object-orientation in Python.\n",
    "\n",
    "3. Vector/matrix structures, `numpy` library\n",
    "4. Python data types, File Processing, `Pandas` library\n",
    "5. Functions in Python, Debugging.\n",
    "6. Introduction to R, R for Python programmers.\n",
    "7. Import data, plot data.\n",
    "8. Data Mining in Python/R."
   ]
  },
  {
   "cell_type": "markdown",
   "metadata": {},
   "source": [
    "# Some useful and basic built-in functions\n",
    "\n",
    "List build-in functions: [https://docs.python.org/2/library/functions.html](https://docs.python.org/2/library/functions.html)\n",
    "\n",
    "![](figs/session_2/buildin-function.png)\n",
    "\n",
    "\n",
    "* **str()** is very common and useful for converting to strings, e.g. the number 1 to \"1\" -- similarily int() for converting other numbers (float or decimal), or strings, to integers.\n",
    "* **len()** is perhaps most common, we often need to know how many members there are e.g. in a list and len(mylist) is the Python way for that (not like mylist.length in Javascript)\n",
    "* **open()** is essential as that's what you use to open a file.\n",
    "* **min()** and **max()** are common. also **all()** and **any()** are handy to know for basic logic.\n",
    "* **set()** is useful because the set type doesn't have a literal like **[]** and **{}** for lists and dicts. **list()** is useful and quite common for converting e.g. a set to a list.\n",
    "* **range()** for iterating number of times: `for i in range(10)`\n",
    "* **sorted()** - creates sorted copy of list\n",
    "* **help([object])** - To invoke the built-in help.\n"
   ]
  },
  {
   "cell_type": "markdown",
   "metadata": {},
   "source": [
    "## Help"
   ]
  },
  {
   "cell_type": "code",
   "execution_count": 1,
   "metadata": {
    "scrolled": true
   },
   "outputs": [
    {
     "name": "stdout",
     "output_type": "stream",
     "text": [
      "Help on built-in function range in module __builtin__:\n",
      "\n",
      "range(...)\n",
      "    range(stop) -> list of integers\n",
      "    range(start, stop[, step]) -> list of integers\n",
      "    \n",
      "    Return a list containing an arithmetic progression of integers.\n",
      "    range(i, j) returns [i, i+1, i+2, ..., j-1]; start (!) defaults to 0.\n",
      "    When step is given, it specifies the increment (or decrement).\n",
      "    For example, range(4) returns [0, 1, 2, 3].  The end point is omitted!\n",
      "    These are exactly the valid indices for a list of 4 elements.\n",
      "\n"
     ]
    }
   ],
   "source": [
    "help(range)"
   ]
  },
  {
   "cell_type": "markdown",
   "metadata": {},
   "source": [
    "## Type conversion & Type coercion\n",
    "\n",
    "Python provides a collection of built-in functions that convert values from one type to another.\n",
    "\n",
    "```python\n",
    ">>> int(5.6)\n",
    "    5\n",
    "    \n",
    ">>> float(6)\n",
    "    6.0\n",
    "    \n",
    ">>> 'Two, ' + str(2)\n",
    "    'Two, 2'\n",
    "    \n",
    ">>> bool(6)\n",
    "    True\n",
    "    ...\n",
    "```"
   ]
  },
  {
   "cell_type": "markdown",
   "metadata": {
    "scrolled": false
   },
   "source": [
    "## Math"
   ]
  },
  {
   "cell_type": "code",
   "execution_count": 2,
   "metadata": {
    "scrolled": true
   },
   "outputs": [
    {
     "data": {
      "text/plain": [
       "100"
      ]
     },
     "execution_count": 2,
     "metadata": {},
     "output_type": "execute_result"
    }
   ],
   "source": [
    "max(91, 100)"
   ]
  },
  {
   "cell_type": "code",
   "execution_count": 3,
   "metadata": {},
   "outputs": [
    {
     "data": {
      "text/plain": [
       "24"
      ]
     },
     "execution_count": 3,
     "metadata": {},
     "output_type": "execute_result"
    }
   ],
   "source": [
    "min(57, min(24, 44))"
   ]
  },
  {
   "cell_type": "code",
   "execution_count": 4,
   "metadata": {
    "scrolled": true
   },
   "outputs": [
    {
     "name": "stdout",
     "output_type": "stream",
     "text": [
      "25\n",
      "36\n",
      "49\n",
      "64\n",
      "81\n"
     ]
    }
   ],
   "source": [
    "for i in range(5, 10):\n",
    "    print i ** 2"
   ]
  },
  {
   "cell_type": "code",
   "execution_count": 5,
   "metadata": {
    "scrolled": true
   },
   "outputs": [
    {
     "data": {
      "text/plain": [
       "[5, 7, 9, 11, 13, 15, 17, 19]"
      ]
     },
     "execution_count": 5,
     "metadata": {},
     "output_type": "execute_result"
    }
   ],
   "source": [
    "range(5,20, 2)"
   ]
  },
  {
   "cell_type": "code",
   "execution_count": 6,
   "metadata": {},
   "outputs": [
    {
     "data": {
      "text/plain": [
       "[(1, 'a'), (2, 'b'), (3, 'c')]"
      ]
     },
     "execution_count": 6,
     "metadata": {},
     "output_type": "execute_result"
    }
   ],
   "source": [
    "x = [1, 2, 3, 4]\n",
    "y = ['a', 'b', 'c']\n",
    "\n",
    "zip(x, y)"
   ]
  },
  {
   "cell_type": "code",
   "execution_count": 6,
   "metadata": {},
   "outputs": [
    {
     "data": {
      "text/plain": [
       "[2, 3, 5, 5, 7, 8]"
      ]
     },
     "execution_count": 6,
     "metadata": {},
     "output_type": "execute_result"
    }
   ],
   "source": [
    "sorted([5,3,2,5,7,8])"
   ]
  },
  {
   "cell_type": "markdown",
   "metadata": {},
   "source": [
    "## Strings\n",
    "\n",
    "We have seen three types: `int`, `float`, and `string`. **Strings** are qualitatively different from the other two because they are made up of smaller pieces - characters.\n",
    "\n",
    "The bracket operator selects a single character from a string."
   ]
  },
  {
   "cell_type": "code",
   "execution_count": 7,
   "metadata": {},
   "outputs": [
    {
     "name": "stdout",
     "output_type": "stream",
     "text": [
      "a\n"
     ]
    }
   ],
   "source": [
    "fruit = \"banana\"\n",
    "letter = fruit[1] \n",
    "print letter"
   ]
  },
  {
   "cell_type": "code",
   "execution_count": 7,
   "metadata": {
    "scrolled": true
   },
   "outputs": [
    {
     "data": {
      "text/plain": [
       "2"
      ]
     },
     "execution_count": 7,
     "metadata": {},
     "output_type": "execute_result"
    }
   ],
   "source": [
    "len([1,2])"
   ]
  },
  {
   "cell_type": "code",
   "execution_count": 9,
   "metadata": {
    "scrolled": true
   },
   "outputs": [
    {
     "name": "stdout",
     "output_type": "stream",
     "text": [
      "Char at 0 is b\n",
      "Char at 1 is a\n",
      "Char at 2 is n\n",
      "Char at 3 is a\n",
      "Char at 4 is n\n",
      "Char at 5 is a\n"
     ]
    }
   ],
   "source": [
    "for i in range(len(fruit)):\n",
    "    print 'Char at', i, 'is', fruit[i]"
   ]
  },
  {
   "cell_type": "markdown",
   "metadata": {},
   "source": [
    "**String slices**\n",
    "\n",
    "The \"slice\" syntax is a handy way to refer to sub-parts of sequences -- typically strings and lists. The slice s[start:end] is the elements beginning at start and extending up to but not including end. Suppose we have s = \"Hello\"\n",
    "\n",
    "![](figs/session_2/hello.png)"
   ]
  },
  {
   "cell_type": "code",
   "execution_count": 9,
   "metadata": {
    "collapsed": true
   },
   "outputs": [],
   "source": [
    "s = \"Hello\""
   ]
  },
  {
   "cell_type": "code",
   "execution_count": 18,
   "metadata": {
    "scrolled": true
   },
   "outputs": [
    {
     "name": "stdout",
     "output_type": "stream",
     "text": [
      "oll\n"
     ]
    }
   ],
   "source": [
    "print s[-1:-4]"
   ]
  },
  {
   "cell_type": "code",
   "execution_count": 27,
   "metadata": {},
   "outputs": [
    {
     "data": {
      "text/plain": [
       "'oll'"
      ]
     },
     "execution_count": 27,
     "metadata": {},
     "output_type": "execute_result"
    }
   ],
   "source": [
    "s[4:1:-1]"
   ]
  },
  {
   "cell_type": "code",
   "execution_count": 28,
   "metadata": {},
   "outputs": [
    {
     "data": {
      "text/plain": [
       "'ell'"
      ]
     },
     "execution_count": 28,
     "metadata": {},
     "output_type": "execute_result"
    }
   ],
   "source": [
    "s[-4:-1]"
   ]
  },
  {
   "cell_type": "code",
   "execution_count": 25,
   "metadata": {},
   "outputs": [
    {
     "data": {
      "text/plain": [
       "'olle'"
      ]
     },
     "execution_count": 25,
     "metadata": {},
     "output_type": "execute_result"
    }
   ],
   "source": [
    "s[::-1]"
   ]
  },
  {
   "cell_type": "code",
   "execution_count": 29,
   "metadata": {},
   "outputs": [
    {
     "name": "stdout",
     "output_type": "stream",
     "text": [
      "ll\n"
     ]
    }
   ],
   "source": [
    "print s[-1]"
   ]
  },
  {
   "cell_type": "code",
   "execution_count": 5,
   "metadata": {
    "scrolled": true
   },
   "outputs": [
    {
     "name": "stdout",
     "output_type": "stream",
     "text": [
      "ello\n"
     ]
    }
   ],
   "source": [
    "print s[-4:]"
   ]
  },
  {
   "cell_type": "code",
   "execution_count": 7,
   "metadata": {},
   "outputs": [
    {
     "data": {
      "text/plain": [
       "'olleH'"
      ]
     },
     "execution_count": 7,
     "metadata": {},
     "output_type": "execute_result"
    }
   ],
   "source": [
    "s[::-1]"
   ]
  },
  {
   "cell_type": "markdown",
   "metadata": {},
   "source": [
    "**Exercise**\n",
    "\n",
    "Ex1. Write a Python program to add 'ing' at the end of a given string (length should be at least 3). If the given string already ends with 'ing' then add 'ly' instead. If the string length of the given string is less than 3, leave it unchanged.\n",
    "\n",
    "```python\n",
    "def add_string(s):\n",
    "    # your code goes here\n",
    "\n",
    "\n",
    ">>> add_string('abc')\n",
    "    'abcing'\n",
    ">>> add_string('string')\n",
    "    'stringly'\n",
    "```"
   ]
  },
  {
   "cell_type": "code",
   "execution_count": 2,
   "metadata": {},
   "outputs": [
    {
     "name": "stdout",
     "output_type": "stream",
     "text": [
      "stringly\n",
      "abcing\n"
     ]
    }
   ],
   "source": [
    "# Solution \n",
    "def add_string(s):\n",
    "    if len(s) < 3: return s\n",
    "    if s[-3:] == 'ing': return s + 'ly'\n",
    "    return s + 'ing'\n",
    "\n",
    "print add_string('string')\n",
    "print add_string('abc')"
   ]
  },
  {
   "cell_type": "markdown",
   "metadata": {},
   "source": [
    "Ex2. Write a Python program to remove the nth index character from a nonempty string.\n",
    "\n",
    "Expect result\n",
    "```python\n",
    ">>> remove_char('Python', 0)\n",
    "    'ython'\n",
    ">>> remove_char('Python', 3)\n",
    "    'Pyton'\n",
    ">>> remove_char('Python', 5)\n",
    "    'Pytho'\n",
    "```"
   ]
  },
  {
   "cell_type": "code",
   "execution_count": 3,
   "metadata": {},
   "outputs": [
    {
     "data": {
      "text/plain": [
       "'ython'"
      ]
     },
     "execution_count": 3,
     "metadata": {},
     "output_type": "execute_result"
    }
   ],
   "source": [
    "# Solution\n",
    "def remove_char(s, index):\n",
    "    return s[:index] + s[index+1:]\n",
    "\n",
    "remove_char('Python', 0)"
   ]
  },
  {
   "cell_type": "markdown",
   "metadata": {},
   "source": [
    "Ex3. Write a Python function to insert a string in the middle of a string. Using \n",
    "**remove_char()** function in Ex2 to remove the middle char.\n",
    "```python\n",
    ">>> insert_middle('{{}}', 'JVN')\n",
    "    \"{{JVN}}\"\n",
    "    \n",
    ">>> insert_middle('[[x]]', 'JVN')\n",
    "    \"[[JVN]]\n",
    "```"
   ]
  },
  {
   "cell_type": "code",
   "execution_count": 7,
   "metadata": {},
   "outputs": [
    {
     "data": {
      "text/plain": [
       "'[[JVN]]'"
      ]
     },
     "execution_count": 7,
     "metadata": {},
     "output_type": "execute_result"
    }
   ],
   "source": [
    "# Solution\n",
    "def insert_middle(s, sub_s):\n",
    "    if len(s) % 2 == 1:\n",
    "        s = remove_char(s, len(s)/2)\n",
    "    \n",
    "    middle_index = len(s) / 2\n",
    "    return s[:middle_index] + sub_s + s[middle_index:]\n",
    "\n",
    "insert_middle('[[x]]', 'JVN')"
   ]
  },
  {
   "cell_type": "markdown",
   "metadata": {},
   "source": [
    "Ex4. Write a Python program to count the occurrences of each word in a given sentence\n",
    "\n",
    "```python\n",
    ">>> word_count('the quick brown fox jumps over the lazy dog')\n",
    "    {'the': 2, 'jumps': 1, 'brown': 1, 'lazy': 1, 'fox': 1, 'over': 1, 'quick': 1, 'dog': 1} \n",
    "```"
   ]
  },
  {
   "cell_type": "code",
   "execution_count": 8,
   "metadata": {},
   "outputs": [
    {
     "data": {
      "text/plain": [
       "{'brown': 1,\n",
       " 'dog': 1,\n",
       " 'fox': 1,\n",
       " 'jumps': 1,\n",
       " 'lazy': 1,\n",
       " 'over': 1,\n",
       " 'quick': 1,\n",
       " 'the': 2}"
      ]
     },
     "execution_count": 8,
     "metadata": {},
     "output_type": "execute_result"
    }
   ],
   "source": [
    "def word_count(s):\n",
    "    s = s.split()\n",
    "    wc = {}\n",
    "    for word in s:\n",
    "        wc[word] = wc.get(word, 0) + 1\n",
    "    \n",
    "    return wc\n",
    "\n",
    "word_count('the quick brown fox jumps over the lazy dog')"
   ]
  },
  {
   "cell_type": "markdown",
   "metadata": {},
   "source": [
    "Ex5. Write a Python program to get the domain of URL\n",
    "\n",
    "```python\n",
    ">>> get_domain(\"https://www.kaggle.com/wiki/Tutorials\")\n",
    "    \"www.kaggle.com\"\n",
    "    \n",
    ">>> get_domain(\"http://www.kaggle.com/wiki/Tutorials\")\n",
    "    \"www.kaggle.com\"\n",
    "    \n",
    ">>> get_domain(\"jvn.edu.vn/xyz\")\n",
    "    \"jvn.edu.vn\"\n",
    "```\n",
    "\n",
    "Extras:\n",
    "* Using another library\n",
    "* Using regex to detect domain. Library `re`"
   ]
  },
  {
   "cell_type": "code",
   "execution_count": 10,
   "metadata": {},
   "outputs": [
    {
     "name": "stdout",
     "output_type": "stream",
     "text": [
      "www.kaggle.com\n"
     ]
    }
   ],
   "source": [
    "# Solution 1\n",
    "def get_domain(url = ''):\n",
    "    url = url.replace('http://', '').replace('https://', '')\n",
    "    return url.split('/')[0]\n",
    "\n",
    "print get_domain(\"https://www.kaggle.com/wiki/Tutorials\")"
   ]
  },
  {
   "cell_type": "code",
   "execution_count": 12,
   "metadata": {},
   "outputs": [
    {
     "name": "stdout",
     "output_type": "stream",
     "text": [
      "www.kaggle.com\n"
     ]
    }
   ],
   "source": [
    "# Solution extra 1\n",
    "from urlparse import urlparse\n",
    "\n",
    "def get_domain(url = ''):\n",
    "    o = urlparse(url)\n",
    "    return o.netloc\n",
    "\n",
    "print get_domain(\"https://www.kaggle.com/wiki/Tutorials\")"
   ]
  },
  {
   "cell_type": "code",
   "execution_count": 25,
   "metadata": {},
   "outputs": [
    {
     "name": "stdout",
     "output_type": "stream",
     "text": [
      "www.kaggle.com\n",
      "www.kaggle.com\n"
     ]
    }
   ],
   "source": [
    "# Solution extra 2\n",
    "import re\n",
    "\n",
    "def get_domain(url = ''):\n",
    "    domain_patern = re.compile(r\"^(https?:\\/\\/)?([a-z0-9]+\\.[a-z]+\\.[a-z]+?)\\/\")\n",
    "    o = domain_patern.match(url)\n",
    "    return o.group(2)\n",
    "    \n",
    "print get_domain(\"http://www.kaggle.com/wiki/Tutorials\")\n",
    "print get_domain(\"www.kaggle.com/wiki/Tutorials\")"
   ]
  },
  {
   "cell_type": "markdown",
   "metadata": {},
   "source": [
    "Read more: Regular expression ([https://docs.python.org/2/howto/regex.html](https://docs.python.org/2/howto/regex.html))"
   ]
  },
  {
   "cell_type": "markdown",
   "metadata": {},
   "source": [
    "# Import libraries\n",
    "\n",
    "The outermost statements in a Python file, or \"module\", do its one-time setup — those statements run from top to bottom the first time the module is imported somewhere, setting up its variables and functions."
   ]
  },
  {
   "cell_type": "code",
   "execution_count": 14,
   "metadata": {},
   "outputs": [
    {
     "name": "stdout",
     "output_type": "stream",
     "text": [
      "2.0\n"
     ]
    }
   ],
   "source": [
    "import math\n",
    "\n",
    "print math.sqrt(4)"
   ]
  },
  {
   "cell_type": "code",
   "execution_count": 15,
   "metadata": {},
   "outputs": [
    {
     "name": "stdout",
     "output_type": "stream",
     "text": [
      "2.0\n"
     ]
    }
   ],
   "source": [
    "from math import sqrt\n",
    "\n",
    "print sqrt(4)"
   ]
  },
  {
   "cell_type": "code",
   "execution_count": 16,
   "metadata": {},
   "outputs": [
    {
     "name": "stdout",
     "output_type": "stream",
     "text": [
      "2.0\n"
     ]
    }
   ],
   "source": [
    "from math import *\n",
    "\n",
    "print sqrt(4)"
   ]
  },
  {
   "cell_type": "code",
   "execution_count": 17,
   "metadata": {
    "scrolled": true
   },
   "outputs": [
    {
     "name": "stdout",
     "output_type": "stream",
     "text": [
      "2.0\n"
     ]
    }
   ],
   "source": [
    "import math as m\n",
    "\n",
    "print m.sqrt(4)"
   ]
  },
  {
   "cell_type": "markdown",
   "metadata": {},
   "source": [
    "# Conditionals\n",
    "\n",
    "Ex: Input a number then assign to variable **n**. If n larger than 10, write \"<number> larger than 10\", else write \"<number> doesn't larger than 10\""
   ]
  },
  {
   "cell_type": "markdown",
   "metadata": {
    "scrolled": true
   },
   "source": [
    "## Boolean expressions\n",
    "\n",
    "A boolean expression is an expression that is either true or false. One way to write a boolean expression is to use the operator ==, which compares two values and produces a boolean value:\n",
    "\n",
    "```python\n",
    ">>> 5 == 5 \n",
    "True \n",
    ">>> 5 == 6 \n",
    "False \n",
    "```\n",
    "\n",
    "In the first statement, the two operands are equal, so the value of the expression is True; in the second statement, 5 is not equal to 6, so we get False. True and False are special values that are built into Python.\n",
    "\n",
    "The == operator is one of the comparison operators; the others are:\n",
    "\n",
    "```python\n",
    "x != y               # x is not equal to y \n",
    "x > y                # x is greater than y \n",
    "x < y                # x is less than y \n",
    "x >= y               # x is greater than or equal to y \n",
    "x <= y               # x is less than or equal to y \n",
    "```\n"
   ]
  },
  {
   "cell_type": "markdown",
   "metadata": {},
   "source": [
    "## Logical operators\n",
    "\n",
    "There are three **logical operators**: `and`, `or`, and `not`. The semantics (meaning) of these operators is similar to their meaning in English. For example, x > 0 and x < 10 is true only if x is greater than 0 and less than 10.\n",
    "\n",
    "`n%2 == 0` or `n%3 == 0` is true if either of the conditions is true, that is, if the number is divisible by 2 or 3.\n",
    "\n",
    "Finally, the not operator negates a boolean expression, so `not(x > y)` is true `if (x > y)` is `false`, that is, if x is less than or equal to y.\n",
    "\n",
    "Strictly speaking, the operands of the logical operators should be boolean expressions, but Python is not very strict. Any nonzero number is interpreted as \"true.\"\n",
    "\n",
    "```python\n",
    ">>>  x = 5 \n",
    ">>>  x and 1 \n",
    "1 \n",
    ">>>  y = 0 \n",
    ">>>  y and 1 \n",
    "0\n",
    "```\n",
    "\n",
    "In general, this sort of thing is not considered good style. If you want to compare a value to zero, you should do it explicitly.\n",
    "\n"
   ]
  },
  {
   "cell_type": "markdown",
   "metadata": {},
   "source": [
    "## The \"in\" operator\n",
    "The \"in\" operator could be used to check if a specified object exists within an iterable object container, such as a list:"
   ]
  },
  {
   "cell_type": "code",
   "execution_count": 18,
   "metadata": {
    "scrolled": true
   },
   "outputs": [
    {
     "data": {
      "text/plain": [
       "True"
      ]
     },
     "execution_count": 18,
     "metadata": {},
     "output_type": "execute_result"
    }
   ],
   "source": [
    "name = \"John\"\n",
    "name in [\"John\", \"Rick\"]"
   ]
  },
  {
   "cell_type": "code",
   "execution_count": 19,
   "metadata": {},
   "outputs": [
    {
     "data": {
      "text/plain": [
       "False"
      ]
     },
     "execution_count": 19,
     "metadata": {},
     "output_type": "execute_result"
    }
   ],
   "source": [
    "\"Duyet\" in [\"John\", \"Rick\"]"
   ]
  },
  {
   "cell_type": "code",
   "execution_count": 30,
   "metadata": {
    "scrolled": true
   },
   "outputs": [
    {
     "data": {
      "text/plain": [
       "True"
      ]
     },
     "execution_count": 30,
     "metadata": {},
     "output_type": "execute_result"
    }
   ],
   "source": [
    "'d' in 'dsdfdsfd'"
   ]
  },
  {
   "cell_type": "markdown",
   "metadata": {},
   "source": [
    "## IF statements\n",
    "\n",
    "### if-else\n",
    "The basic if-else statement in Python is as follows:\n",
    "\n",
    "```python\n",
    "if <expression>:\n",
    "    #write statement here\n",
    "else:\n",
    "    #write statement here\n",
    "```"
   ]
  },
  {
   "cell_type": "code",
   "execution_count": 31,
   "metadata": {},
   "outputs": [
    {
     "name": "stdout",
     "output_type": "stream",
     "text": [
      "What is your mark: 5\n",
      "Fail\n"
     ]
    }
   ],
   "source": [
    "mark = int(input(\"What is your mark: \"))\n",
    "if mark >= 50:\n",
    "    print(\"Pass\")\n",
    "else:\n",
    "    print(\"Fail\")"
   ]
  },
  {
   "cell_type": "markdown",
   "metadata": {},
   "source": [
    "### elif"
   ]
  },
  {
   "cell_type": "code",
   "execution_count": 21,
   "metadata": {
    "scrolled": true
   },
   "outputs": [
    {
     "name": "stdout",
     "output_type": "stream",
     "text": [
      "What is the current month ? 3\n",
      "Spring\n"
     ]
    }
   ],
   "source": [
    "month = int(input(\"What is the current month ? \"))\n",
    "if month <=0 or month >12:\n",
    "    print \"Invalid month number !!!\"\n",
    "elif month < 4:\n",
    "    print \"Spring\"\n",
    "elif month < 7:\n",
    "    print \"Summer\"\n",
    "elif month < 10:\n",
    "    print \"Fall\"\n",
    "elif month < 13:\n",
    "    print \"Winter\""
   ]
  },
  {
   "cell_type": "markdown",
   "metadata": {},
   "source": [
    "Bonus. Write a Python program to print alphabet pattern 'E' (using if, else)\n",
    "\n",
    "```\n",
    " *****                                                                  \n",
    " *                                                                      \n",
    " *                                                                      \n",
    " ****                                                                   \n",
    " *                                                                      \n",
    " *                                                                      \n",
    " *****\n",
    "```"
   ]
  },
  {
   "cell_type": "markdown",
   "metadata": {},
   "source": [
    "# Loops\n",
    "\n",
    "## For loops\n",
    "\n",
    "\n",
    "For loops iterate over a given sequence. Here is an example:"
   ]
  },
  {
   "cell_type": "code",
   "execution_count": 22,
   "metadata": {},
   "outputs": [
    {
     "name": "stdout",
     "output_type": "stream",
     "text": [
      "2\n",
      "3\n",
      "5\n",
      "7\n"
     ]
    }
   ],
   "source": [
    "primes = [2, 3, 5, 7]\n",
    "for prime in primes:\n",
    "    print(prime)"
   ]
  },
  {
   "cell_type": "markdown",
   "metadata": {},
   "source": [
    "For loops can iterate over a sequence of numbers using the \"range\" and \"xrange\" functions."
   ]
  },
  {
   "cell_type": "code",
   "execution_count": 23,
   "metadata": {},
   "outputs": [
    {
     "name": "stdout",
     "output_type": "stream",
     "text": [
      "[0, 1, 2, 3, 4]\n"
     ]
    }
   ],
   "source": [
    "r = range(5)\n",
    "print r"
   ]
  },
  {
   "cell_type": "code",
   "execution_count": 24,
   "metadata": {},
   "outputs": [
    {
     "name": "stdout",
     "output_type": "stream",
     "text": [
      "0\n",
      "1\n",
      "2\n",
      "3\n",
      "4\n"
     ]
    }
   ],
   "source": [
    "for i in r:\n",
    "    print i"
   ]
  },
  {
   "cell_type": "code",
   "execution_count": 25,
   "metadata": {},
   "outputs": [
    {
     "name": "stdout",
     "output_type": "stream",
     "text": [
      "I love you\n",
      "I love you\n",
      "I love you\n",
      "I love you\n",
      "I love you\n"
     ]
    }
   ],
   "source": [
    "for i in r:\n",
    "    print \"I love you\""
   ]
  },
  {
   "cell_type": "markdown",
   "metadata": {},
   "source": [
    "The **range()** function is one of Python's built in functions. It is is used to indicate how many times the loop will be repeated.\n",
    "\n",
    "The structure of the range function is **range(start, upto, step)** in which the arguments of range are used as follows:\n",
    "\n",
    "- **start** and step are both optional.\n",
    "- **upto** must always be there, it means \"up to but not including\" the value.\n",
    "- **start**, **upto**, and **step** must all be integers"
   ]
  },
  {
   "cell_type": "code",
   "execution_count": 26,
   "metadata": {},
   "outputs": [
    {
     "data": {
      "text/plain": [
       "[0, 1, 2]"
      ]
     },
     "execution_count": 26,
     "metadata": {},
     "output_type": "execute_result"
    }
   ],
   "source": [
    "range(3)"
   ]
  },
  {
   "cell_type": "code",
   "execution_count": 27,
   "metadata": {},
   "outputs": [
    {
     "data": {
      "text/plain": [
       "[3, 4, 5, 6]"
      ]
     },
     "execution_count": 27,
     "metadata": {},
     "output_type": "execute_result"
    }
   ],
   "source": [
    "range(3,7)"
   ]
  },
  {
   "cell_type": "code",
   "execution_count": 28,
   "metadata": {},
   "outputs": [
    {
     "data": {
      "text/plain": [
       "[1, 3, 5, 7, 9]"
      ]
     },
     "execution_count": 28,
     "metadata": {},
     "output_type": "execute_result"
    }
   ],
   "source": [
    "range(1, 10, 2)"
   ]
  },
  {
   "cell_type": "code",
   "execution_count": 29,
   "metadata": {
    "scrolled": true
   },
   "outputs": [
    {
     "data": {
      "text/plain": [
       "[10, 9, 8, 7, 6, 5, 4, 3, 2, 1, 0]"
      ]
     },
     "execution_count": 29,
     "metadata": {},
     "output_type": "execute_result"
    }
   ],
   "source": [
    "range(10, -1, -1)"
   ]
  },
  {
   "cell_type": "markdown",
   "metadata": {},
   "source": [
    "Ex1. Write a Python program to calculate the sum and average of n integer numbers (input from the user). Input 0 to finish\n",
    "\n",
    "```python\n",
    "Input number: 6\n",
    "Input number: 7\n",
    "Input number: 10\n",
    "Input number: 0\n",
    "\n",
    "Sum = 23\n",
    "AVG = 7.666666666666667\n",
    "```"
   ]
  },
  {
   "cell_type": "code",
   "execution_count": 2,
   "metadata": {},
   "outputs": [
    {
     "name": "stdout",
     "output_type": "stream",
     "text": [
      "Input number: 6\n",
      "Input number: 7\n",
      "Input number: 10\n",
      "Input number: 0\n",
      "Sum =  23\n",
      "Avg =  7.66666666667\n"
     ]
    }
   ],
   "source": [
    "# Solution 1\n",
    "number = 1\n",
    "Sum = 0\n",
    "n = 0\n",
    "\n",
    "while number != 0:\n",
    "    number = int(raw_input(\"Input number: \"))\n",
    "    Sum += number # Sum = Sum + n\n",
    "    n += 1\n",
    "\n",
    "print \"Sum = \", Sum\n",
    "print \"Avg = \", float(Sum) / (n-1)"
   ]
  },
  {
   "cell_type": "code",
   "execution_count": 3,
   "metadata": {},
   "outputs": [
    {
     "name": "stdout",
     "output_type": "stream",
     "text": [
      "Input number: 6\n",
      "Input number: 7\n",
      "Input number: 10\n",
      "Input number: 0\n",
      "Sum =  23\n",
      "Avg =  7.66666666667\n"
     ]
    }
   ],
   "source": [
    "# Solution 2\n",
    "Sum = 0\n",
    "n = 0\n",
    "\n",
    "while True:\n",
    "    number = int(raw_input(\"Input number: \"))\n",
    "    if number == 0:\n",
    "        break\n",
    "        \n",
    "    Sum += number\n",
    "    n += 1\n",
    "\n",
    "print \"Sum = \", Sum\n",
    "print \"Avg = \", float(Sum) / n"
   ]
  },
  {
   "cell_type": "markdown",
   "metadata": {},
   "source": [
    "Ex2. Write a Python program to create the multiplication table (from 1 to 10) of a number.\n",
    "\n",
    "```python\n",
    "Input a number: 6                                                       \n",
    "6 x 1 = 6                                                               \n",
    "6 x 2 = 12                                                              \n",
    "6 x 3 = 18                                                              \n",
    "6 x 4 = 24                                                              \n",
    "6 x 5 = 30                                                              \n",
    "6 x 6 = 36                                                              \n",
    "6 x 7 = 42                                                              \n",
    "6 x 8 = 48                                                              \n",
    "6 x 9 = 54                                                              \n",
    "6 x 10 = 60 \n",
    "```"
   ]
  },
  {
   "cell_type": "code",
   "execution_count": 5,
   "metadata": {},
   "outputs": [
    {
     "name": "stdout",
     "output_type": "stream",
     "text": [
      "Input a number: 6\n",
      "6 x 1 = 6\n",
      "6 x 2 = 12\n",
      "6 x 3 = 18\n",
      "6 x 4 = 24\n",
      "6 x 5 = 30\n",
      "6 x 6 = 36\n",
      "6 x 7 = 42\n",
      "6 x 8 = 48\n",
      "6 x 9 = 54\n",
      "6 x 10 = 60\n"
     ]
    }
   ],
   "source": [
    "# Solution\n",
    "n = int(input(\"Input a number: \"))\n",
    "for i in range(1, 11):\n",
    "    print n, \"x\", i, \"=\", n*i"
   ]
  },
  {
   "cell_type": "markdown",
   "metadata": {},
   "source": [
    "Ex3. Write a Python program to construct the following pattern, using a nested loop number.\n",
    "\n",
    "```python\n",
    "n = 9\n",
    "\n",
    "1\n",
    "22\n",
    "333\n",
    "4444\n",
    "55555\n",
    "666666\n",
    "7777777\n",
    "88888888\n",
    "999999999\n",
    "```"
   ]
  },
  {
   "cell_type": "code",
   "execution_count": 8,
   "metadata": {},
   "outputs": [
    {
     "name": "stdout",
     "output_type": "stream",
     "text": [
      "n =9\n",
      "\n",
      "\n",
      "1\n",
      "2 2\n",
      "3 3 3\n",
      "4 4 4 4\n",
      "5 5 5 5 5\n",
      "6 6 6 6 6 6\n",
      "7 7 7 7 7 7 7\n",
      "8 8 8 8 8 8 8 8\n",
      "9 9 9 9 9 9 9 9 9\n"
     ]
    }
   ],
   "source": [
    "# Solution\n",
    "n = int(input(\"n =\"))\n",
    "\n",
    "print \"\\n\"\n",
    "for i in range(1, n+1):\n",
    "    for j in range(1, i+1):\n",
    "        print i,\n",
    "    print "
   ]
  },
  {
   "cell_type": "markdown",
   "metadata": {},
   "source": [
    "## While loops\n",
    "\n",
    "While loops are known as indefinite or conditional loops. They will keep iterating until certain conditions are met. There is no guarantee ahead of time regarding how many times the loop will iterate.\n",
    "\n",
    "The while loop, like the if statement, includes a boolean expression that evaluates to true or false. The code inside the loop will be repeatedly executed until the boolean expression is no longer true.\n",
    "\n",
    "This diagram shows the flow of control in a while loop:\n",
    "\n",
    "![](figs/session_2/while-loop.png)"
   ]
  },
  {
   "cell_type": "code",
   "execution_count": 30,
   "metadata": {
    "scrolled": false
   },
   "outputs": [
    {
     "name": "stdout",
     "output_type": "stream",
     "text": [
      "0\n",
      "1\n",
      "2\n",
      "3\n",
      "4\n"
     ]
    }
   ],
   "source": [
    "count = 0\n",
    "while count < 5:\n",
    "    print(count)\n",
    "    count += 1  # This is the same as count = count + 1"
   ]
  },
  {
   "cell_type": "code",
   "execution_count": null,
   "metadata": {
    "collapsed": true
   },
   "outputs": [],
   "source": [
    "input_text = \"run\"\n",
    "while input_text != \"exit\":\n",
    "    input_text = raw_input(\"Please type 'exit' to quit this program: \")\n",
    "print \"Quit !!!\""
   ]
  },
  {
   "cell_type": "markdown",
   "metadata": {},
   "source": [
    "## \"break\" and \"continue\" statements\n",
    "\n",
    "**break** is used to **exit** a for loop or a while loop, whereas **continue** is used to skip the current block, and return to the \"for\" or \"while\" statement. A few examples:"
   ]
  },
  {
   "cell_type": "code",
   "execution_count": 32,
   "metadata": {},
   "outputs": [
    {
     "name": "stdout",
     "output_type": "stream",
     "text": [
      "0\n",
      "1\n",
      "2\n",
      "3\n",
      "4\n"
     ]
    }
   ],
   "source": [
    "count = 0\n",
    "while True:\n",
    "    print(count)\n",
    "    count += 1\n",
    "    if count >= 5:\n",
    "        break"
   ]
  },
  {
   "cell_type": "code",
   "execution_count": 33,
   "metadata": {},
   "outputs": [
    {
     "name": "stdout",
     "output_type": "stream",
     "text": [
      "1\n",
      "3\n",
      "5\n",
      "7\n",
      "9\n"
     ]
    }
   ],
   "source": [
    "for x in range(10):\n",
    "    # Check if x is even\n",
    "    if x % 2 == 0:\n",
    "        continue\n",
    "    print(x)"
   ]
  },
  {
   "cell_type": "markdown",
   "metadata": {},
   "source": [
    "## \"Infinite loops\" and break\n",
    "\n",
    "Sometimes you don't know it's time to end a loop until you get half way through the body. In that case you can write an infinite loop on purpose and then use the break statement to jump out of the loop.\n"
   ]
  },
  {
   "cell_type": "markdown",
   "metadata": {},
   "source": [
    "## Exercise\n",
    "\n",
    "Ex1. Loop through and print out all even numbers from the numbers list in the same order they are received. Don't print any numbers that come after 237 in the sequence.\n",
    "\n",
    "Hint: Using `loop`, `continue` and `break`\n",
    "\n",
    "```python\n",
    "\n",
    "numbers = [\n",
    "    951, 402, 984, 651, 360, 69, 408, 319, 601, 485, 980, 507, 725, 547, 544,\n",
    "    615, 83, 165, 141, 501, 263, 617, 865, 575, 219, 390, 984, 592, 236, 105, 942, 941,\n",
    "    386, 462, 47, 418, 907, 344, 236, 375, 823, 566, 597, 978, 328, 615, 953, 345,\n",
    "    399, 162, 758, 219, 918, 237, 412, 566, 826, 248, 866, 950, 626, 949, 687, 217,\n",
    "    815, 67, 104, 58, 512, 24, 892, 894, 767, 553, 81, 379, 843, 831, 445, 742, 717,\n",
    "    958, 609, 842, 451, 688, 753, 854, 685, 93, 857, 440, 380, 126, 721, 328, 753, 470,\n",
    "    743, 527\n",
    "]\n",
    "\n",
    "# your code goes here\n",
    "\n",
    "```"
   ]
  },
  {
   "cell_type": "code",
   "execution_count": 10,
   "metadata": {},
   "outputs": [
    {
     "name": "stdout",
     "output_type": "stream",
     "text": [
      "951 651 69 319 601 485 507 725 547 615 83 165 141 501 263 617 865 575 219 105 941 47 907 375 823 597 615 953 345 399 219\n"
     ]
    }
   ],
   "source": [
    "# Solution\n",
    "numbers = [\n",
    "    951, 402, 984, 651, 360, 69, 408, 319, 601, 485, 980, 507, 725, 547, 544,\n",
    "    615, 83, 165, 141, 501, 263, 617, 865, 575, 219, 390, 984, 592, 236, 105, 942, 941,\n",
    "    386, 462, 47, 418, 907, 344, 236, 375, 823, 566, 597, 978, 328, 615, 953, 345,\n",
    "    399, 162, 758, 219, 918, 237, 412, 566, 826, 248, 866, 950, 626, 949, 687, 217,\n",
    "    815, 67, 104, 58, 512, 24, 892, 894, 767, 553, 81, 379, 843, 831, 445, 742, 717,\n",
    "    958, 609, 842, 451, 688, 753, 854, 685, 93, 857, 440, 380, 126, 721, 328, 753, 470,\n",
    "    743, 527\n",
    "]\n",
    "\n",
    "for n in numbers:\n",
    "    if n == 237:\n",
    "        break\n",
    "    if n % 2 == 0:\n",
    "        continue\n",
    "    print n, "
   ]
  },
  {
   "cell_type": "markdown",
   "metadata": {},
   "source": [
    "Ex2. **Faces on Money**\n",
    "\n",
    "It is common for images of a country’s previous leaders, or other individuals of historical significance, to appear on its money. The individuals that appear on banknotes in the United States are listed in the table bellow.\n",
    "\n",
    "| Individual         | Amount |\n",
    "|--------------------|--------|\n",
    "| George Washington  | \\$1     |\n",
    "| Thomas Jefferson   | \\$2     |\n",
    "| Abraham Lincoln    | \\$5     |\n",
    "| Alexander Hamilton | \\$10    |\n",
    "| Andrew Jackson     | \\$20    |\n",
    "| Ulysses S. Grant   | \\$50    |\n",
    "| Benjamin Frankli   | \\$100   |\n",
    "\n",
    "Write a program that begins by reading the denomination of a banknote from the user. Then your program should display the name of the individual that appears on the banknote of the entered amount. An appropriate error message should be displayed if no such note exists.\n"
   ]
  },
  {
   "cell_type": "code",
   "execution_count": 1,
   "metadata": {},
   "outputs": [
    {
     "name": "stdout",
     "output_type": "stream",
     "text": [
      "Please enter amount: 345\n",
      "3  x  Benjamin Frankli ($100)\n",
      "2  x  Andrew Jackson ($20)\n",
      "1  x  Abraham Lincoln ($5)\n"
     ]
    }
   ],
   "source": [
    "# Solution\n",
    "banknotes = {\n",
    "    1: 'George Washington',\n",
    "    2: 'Thomas Jefferson',\n",
    "    5: 'Abraham Lincoln',\n",
    "    10: 'Alexander Hamilton',\n",
    "    20: 'Andrew Jackson',\n",
    "    50: 'Ulysses S. Grant',\n",
    "    100: 'Benjamin Frankli'\n",
    "}\n",
    "\n",
    "# reading the denomination of a banknote\n",
    "amount = int(input(\"Please enter amount: \"))\n",
    "\n",
    "while amount > 0:\n",
    "    if amount / 100 > 0:\n",
    "        print (amount / 100), ' x ', banknotes[100], '($100)'\n",
    "        amount = amount % 100\n",
    "    if amount / 50 > 0:\n",
    "        print (amount / 50), ' x ', banknotes[50], '($50)'\n",
    "        amount = amount % 50   \n",
    "    if amount / 20 > 0:\n",
    "        print (amount / 20), ' x ', banknotes[20], '($20)'\n",
    "        amount = amount % 20\n",
    "    if amount / 10 > 0:\n",
    "        print (amount / 10), ' x ', banknotes[10], '($10)'\n",
    "        amount = amount % 10\n",
    "    if amount / 5 > 0:\n",
    "        print (amount / 5), ' x ', banknotes[5], '($5)'\n",
    "        amount = amount % 5\n",
    "    if amount / 2 > 0:\n",
    "        print (amount / 2), ' x ', banknotes[2], '($2)'\n",
    "        amount = amount % 2\n",
    "    if amount / 1 > 0:\n",
    "        print (amount / 1), ' x ', banknotes[1], '($1)'\n",
    "        amount = amount % 1"
   ]
  },
  {
   "cell_type": "code",
   "execution_count": 16,
   "metadata": {
    "scrolled": false
   },
   "outputs": [
    {
     "name": "stdout",
     "output_type": "stream",
     "text": [
      "Please enter amount: 456\n",
      "4  x  Benjamin Frankli ($100)\n",
      "1  x  Ulysses S. Grant ($50)\n",
      "1  x  Abraham Lincoln ($5)\n",
      "1  x  George Washington ($1)\n"
     ]
    }
   ],
   "source": [
    "# Solution for shorter\n",
    "\n",
    "banknotes = {\n",
    "    1: 'George Washington',\n",
    "    2: 'Thomas Jefferson',\n",
    "    5: 'Abraham Lincoln',\n",
    "    10: 'Alexander Hamilton',\n",
    "    20: 'Andrew Jackson',\n",
    "    50: 'Ulysses S. Grant',\n",
    "    100: 'Benjamin Frankli'\n",
    "}\n",
    "\n",
    "# reading the denomination of a banknote\n",
    "amount = int(input(\"Please enter amount: \"))\n",
    "\n",
    "while amount > 0:\n",
    "    for i in sorted(banknotes.keys(), reverse=True):\n",
    "        if amount / i > 0:\n",
    "            print (amount / i), ' x ', banknotes[i], '($'+str(i)+')'\n",
    "            amount = amount % i\n",
    "            break"
   ]
  },
  {
   "cell_type": "markdown",
   "metadata": {},
   "source": [
    "Ex3. (Bonus) Implement insertion sort in Python.\n",
    "\n",
    "```python\n",
    "insertion_sort([3,4,6,7,1])\n",
    "```"
   ]
  },
  {
   "cell_type": "markdown",
   "metadata": {},
   "source": [
    "Ex4. (Bonus) Implement selection sort in Python.\n",
    "\n",
    "```python\n",
    "selection_sort([3,4,6,7,1])\n",
    "```"
   ]
  },
  {
   "cell_type": "markdown",
   "metadata": {},
   "source": [
    "# References\n",
    "\n",
    "* Class and Object: [https://www.learnpython.org/en/Classes_and_Objects](https://www.learnpython.org/en/Classes_and_Objects)\n",
    "* Learn Python - Loop: [https://www.learnpython.org/en/Loops](https://www.learnpython.org/en/Loops)\n",
    "* http://www.afterhoursprogramming.com/tutorial/Python/If-Statement/\n",
    "* http://www.afterhoursprogramming.com/tutorial/Python/Classes/"
   ]
  }
 ],
 "metadata": {
  "kernelspec": {
   "display_name": "Python 2",
   "language": "python",
   "name": "python2"
  },
  "language_info": {
   "codemirror_mode": {
    "name": "ipython",
    "version": 2
   },
   "file_extension": ".py",
   "mimetype": "text/x-python",
   "name": "python",
   "nbconvert_exporter": "python",
   "pygments_lexer": "ipython2",
   "version": "2.7.12"
  }
 },
 "nbformat": 4,
 "nbformat_minor": 2
}
