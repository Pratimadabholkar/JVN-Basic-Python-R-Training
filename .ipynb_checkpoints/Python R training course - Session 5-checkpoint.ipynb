{
 "cells": [
  {
   "cell_type": "markdown",
   "metadata": {},
   "source": [
    "**Lecture list**\n",
    "\n",
    "1. Introduction to Python\n",
    "\n",
    "2. The Python Standard Library, if/loops statements\n",
    "\n",
    "3. Vector/matrix structures, `numpy` library\n",
    "\n",
    "4. Python data types, File Processing, `Pandas` library\n",
    "\n",
    "5. **Functions in Python, Debugging.**\n",
    "\n",
    "    * Lambda function.\n",
    "    * Common errors in Python\n",
    "\n",
    "6. Introduction to R, R for Python programmers.\n",
    "\n",
    "7. Import data, plot data.\n",
    "\n",
    "8. Data Mining in Python/R."
   ]
  },
  {
   "cell_type": "markdown",
   "metadata": {},
   "source": [
    "Different kinds of errors can occur in a program, and it is useful to distinguish among them in order to track them down more quickly:\n",
    "\n",
    "* Syntax errors are produced by Python when it is translating the source code into byte code. They usually indicate that there is something wrong with the syntax of the program. Example: Omitting the colon at the end of a def statement yields the somewhat redundant message SyntaxError: invalid syntax.\n",
    "* Runtime errors are produced by the runtime system if something goes wrong while the program is running. Most runtime error messages include information about where the error occurred and what functions were executing. Example: An infinite recursion eventually causes a runtime error of \"maximum recursion depth exceeded.\"\n",
    "* Semantic errors are problems with a program that compiles and runs but doesn't do the right thing. Example: An expression may not be evaluated in the order you expect, yielding an unexpected result.\n",
    "\n",
    "\n",
    "The first step in debugging is to figure out which kind of error you are dealing with. Although the following sections are organized by error type, some techniques are applicable in more than one situation.\n",
    "\n"
   ]
  },
  {
   "cell_type": "code",
   "execution_count": null,
   "metadata": {
    "collapsed": true
   },
   "outputs": [],
   "source": []
  }
 ],
 "metadata": {
  "kernelspec": {
   "display_name": "Python 2",
   "language": "python",
   "name": "python2"
  },
  "language_info": {
   "codemirror_mode": {
    "name": "ipython",
    "version": 2
   },
   "file_extension": ".py",
   "mimetype": "text/x-python",
   "name": "python",
   "nbconvert_exporter": "python",
   "pygments_lexer": "ipython2",
   "version": "2.7.13"
  }
 },
 "nbformat": 4,
 "nbformat_minor": 2
}
