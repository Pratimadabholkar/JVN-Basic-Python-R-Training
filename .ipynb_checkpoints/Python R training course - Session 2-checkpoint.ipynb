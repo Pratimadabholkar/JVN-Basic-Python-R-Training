{
 "cells": [
  {
   "cell_type": "markdown",
   "metadata": {},
   "source": [
    "Python is nowadays become an active programming language used for scientic computing, especially it is widely used in data science.  Moreover, Pythonis totally free and prefered by a lot of companies.  Based on this signicantneed, we aim to provide the JVN students the most important knowledgein Python. \n",
    "\n",
    "Adapted  by  Volodymyr  Kuleshov  and  Isaac  Caswell  from  the  CS231n\n",
    "\n",
    "Python tutorial by Justin Johnson ([http://cs231n.github.io/python-numpy-tutorial/](http://cs231n.github.io/python-numpy-tutorial/)). The theory is from MIT Opencourseware: A Gentle Introduction to Programming Using Python ([http://ocw.mit.edu](http://ocw.mit.edu/courses/electrical-engineering-and-computer-science/6-189-a-gentle-introduction-to-programming-using-python-january-iap-2011/readings/))\n",
    "\n",
    "\n",
    "# Lecture list\n",
    "\n",
    "1. Introduction to Python\n",
    "\n",
    "2. **The Python Standard Library, if/loops statements**\n",
    "    * Some useful and basic built-in functions (abs, etc.)\n",
    "    * How to use import to import libraries (ex: math, random). We will introduce you several basic libraries that are often used in Python.\n",
    "    * Introduce Comparison and Boolean Operators (if/else/while/for)\n",
    "    * Students are also introduced the concept of object-orientation in Python.\n",
    "\n",
    "3. Vector/matrix structures, `numpy` library\n",
    "4. Python data types, File Processing, `Pandas` library\n",
    "5. Functions in Python, Debugging.\n",
    "6. Introduction to R, R for Python programmers.\n",
    "7. Import data, plot data.\n",
    "8. Data Mining in Python/R."
   ]
  },
  {
   "cell_type": "markdown",
   "metadata": {},
   "source": [
    "# Some useful and basic built-in functions\n",
    "\n",
    "List build-in functions: [https://docs.python.org/2/library/functions.html](https://docs.python.org/2/library/functions.html)\n",
    "\n",
    "![](figs/session_2/buildin-function.png)\n",
    "\n",
    "\n",
    "**str()** is very common and useful for converting to strings, e.g. the number 1 to \"1\" -- similarily int() for converting other numbers (float or decimal), or strings, to integers.\n",
    "\n",
    "**len()** is perhaps most common, we often need to know how many members there are e.g. in a list and len(mylist) is the Python way for that (not like mylist.length in Javascript)\n",
    " \n",
    "**open()** is essential as that's what you use to open a file.\n",
    "\n",
    "**min()** and **max()** are common. also **all()** and **any()** are handy to know for basic logic.\n",
    "\n",
    "**set()** is useful because the set type doesn't have a literal like **[]** and **{}** for lists and dicts. **list()** is useful and quite common for converting e.g. a set to a list.\n",
    " \n",
    "**range()** for iterating number of times: `for i in range(10)`\n",
    "\n",
    "**sorted()** - creates sorted copy of list\n",
    "\n",
    "**help([object])** - To invoke the built-in help.\n"
   ]
  },
  {
   "cell_type": "code",
   "execution_count": 11,
   "metadata": {
    "collapsed": false,
    "scrolled": true
   },
   "outputs": [
    {
     "name": "stdout",
     "output_type": "stream",
     "text": [
      "Help on built-in function range in module __builtin__:\n",
      "\n",
      "range(...)\n",
      "    range(stop) -> list of integers\n",
      "    range(start, stop[, step]) -> list of integers\n",
      "    \n",
      "    Return a list containing an arithmetic progression of integers.\n",
      "    range(i, j) returns [i, i+1, i+2, ..., j-1]; start (!) defaults to 0.\n",
      "    When step is given, it specifies the increment (or decrement).\n",
      "    For example, range(4) returns [0, 1, 2, 3].  The end point is omitted!\n",
      "    These are exactly the valid indices for a list of 4 elements.\n",
      "\n"
     ]
    }
   ],
   "source": [
    "help(range)"
   ]
  },
  {
   "cell_type": "markdown",
   "metadata": {},
   "source": [
    "## Type conversion & Type coercion\n",
    "\n",
    "Python provides a collection of built-in functions that convert values from one type to another.\n",
    "\n",
    "```python\n",
    ">>> int(5.6)\n",
    "    5\n",
    "    \n",
    ">>> float(6)\n",
    "    6.0\n",
    "    \n",
    ">>> 'Two, ' + str(2)\n",
    "    'Two, 2'\n",
    "    \n",
    ">>> bool(6)\n",
    "    True\n",
    "    ...\n",
    "```"
   ]
  },
  {
   "cell_type": "markdown",
   "metadata": {
    "collapsed": false,
    "scrolled": false
   },
   "source": [
    "### Math"
   ]
  },
  {
   "cell_type": "code",
   "execution_count": 3,
   "metadata": {
    "collapsed": false,
    "scrolled": true
   },
   "outputs": [
    {
     "data": {
      "text/plain": [
       "100"
      ]
     },
     "execution_count": 3,
     "metadata": {},
     "output_type": "execute_result"
    }
   ],
   "source": [
    "max(91, 100)"
   ]
  },
  {
   "cell_type": "code",
   "execution_count": 12,
   "metadata": {
    "collapsed": false
   },
   "outputs": [
    {
     "data": {
      "text/plain": [
       "24"
      ]
     },
     "execution_count": 12,
     "metadata": {},
     "output_type": "execute_result"
    }
   ],
   "source": [
    "min(57, min(24, 44))"
   ]
  },
  {
   "cell_type": "code",
   "execution_count": 15,
   "metadata": {
    "collapsed": false,
    "scrolled": true
   },
   "outputs": [
    {
     "name": "stdout",
     "output_type": "stream",
     "text": [
      "25\n",
      "36\n",
      "49\n",
      "64\n",
      "81\n"
     ]
    }
   ],
   "source": [
    "for i in range(5, 10):\n",
    "    print i ** 2"
   ]
  },
  {
   "cell_type": "code",
   "execution_count": 9,
   "metadata": {
    "collapsed": false
   },
   "outputs": [
    {
     "data": {
      "text/plain": [
       "[(1, 'a'), (2, 'b'), (3, 'c')]"
      ]
     },
     "execution_count": 9,
     "metadata": {},
     "output_type": "execute_result"
    }
   ],
   "source": [
    "x = [1, 2, 3]\n",
    "y = ['a', 'b', 'c']\n",
    "\n",
    "zip(x, y)"
   ]
  },
  {
   "cell_type": "code",
   "execution_count": 10,
   "metadata": {
    "collapsed": false
   },
   "outputs": [
    {
     "data": {
      "text/plain": [
       "[2, 3, 5, 5, 7, 8]"
      ]
     },
     "execution_count": 10,
     "metadata": {},
     "output_type": "execute_result"
    }
   ],
   "source": [
    "sorted([5,3,2,5,7,8])"
   ]
  },
  {
   "cell_type": "markdown",
   "metadata": {},
   "source": [
    "### Strings\n",
    "\n",
    "We have seen three types: `int`, `float`, and `string`. **Strings** are qualitatively different from the other two because they are made up of smaller pieces - characters.\n",
    "\n",
    "The bracket operator selects a single character from a string."
   ]
  },
  {
   "cell_type": "code",
   "execution_count": 16,
   "metadata": {
    "collapsed": false
   },
   "outputs": [
    {
     "name": "stdout",
     "output_type": "stream",
     "text": [
      "a\n"
     ]
    }
   ],
   "source": [
    "fruit = \"banana\"\n",
    "letter = fruit[1] \n",
    "print letter"
   ]
  },
  {
   "cell_type": "code",
   "execution_count": 17,
   "metadata": {
    "collapsed": false
   },
   "outputs": [
    {
     "data": {
      "text/plain": [
       "6"
      ]
     },
     "execution_count": 17,
     "metadata": {},
     "output_type": "execute_result"
    }
   ],
   "source": [
    "len(fruit)"
   ]
  },
  {
   "cell_type": "code",
   "execution_count": 19,
   "metadata": {
    "collapsed": false,
    "scrolled": true
   },
   "outputs": [
    {
     "name": "stdout",
     "output_type": "stream",
     "text": [
      "Char at 0 is b\n",
      "Char at 1 is a\n",
      "Char at 2 is n\n",
      "Char at 3 is a\n",
      "Char at 4 is n\n",
      "Char at 5 is a\n"
     ]
    }
   ],
   "source": [
    "for i in range(len(fruit)):\n",
    "    print 'Char at', i, 'is', fruit[i]"
   ]
  },
  {
   "cell_type": "markdown",
   "metadata": {},
   "source": [
    "**String slices**\n",
    "\n",
    "The \"slice\" syntax is a handy way to refer to sub-parts of sequences -- typically strings and lists. The slice s[start:end] is the elements beginning at start and extending up to but not including end. Suppose we have s = \"Hello\"\n",
    "\n",
    "![](figs/session_2/hello.png)"
   ]
  },
  {
   "cell_type": "code",
   "execution_count": 28,
   "metadata": {
    "collapsed": true
   },
   "outputs": [],
   "source": [
    "s = \"Hello\""
   ]
  },
  {
   "cell_type": "code",
   "execution_count": 29,
   "metadata": {
    "collapsed": false
   },
   "outputs": [
    {
     "name": "stdout",
     "output_type": "stream",
     "text": [
      "He\n"
     ]
    }
   ],
   "source": [
    "print s[0:2]"
   ]
  },
  {
   "cell_type": "code",
   "execution_count": 31,
   "metadata": {
    "collapsed": false
   },
   "outputs": [
    {
     "name": "stdout",
     "output_type": "stream",
     "text": [
      "llo\n"
     ]
    }
   ],
   "source": [
    "print s[2:]"
   ]
  },
  {
   "cell_type": "code",
   "execution_count": 33,
   "metadata": {
    "collapsed": false
   },
   "outputs": [
    {
     "name": "stdout",
     "output_type": "stream",
     "text": [
      "ello\n"
     ]
    }
   ],
   "source": [
    "print s[-4:]"
   ]
  },
  {
   "cell_type": "markdown",
   "metadata": {},
   "source": [
    "# Import libraries\n",
    "\n",
    "The outermost statements in a Python file, or \"module\", do its one-time setup — those statements run from top to bottom the first time the module is imported somewhere, setting up its variables and functions. A Python module can be run directly — as above \"python hello.py Bob\" — or it can be imported and used by some other module."
   ]
  },
  {
   "cell_type": "markdown",
   "metadata": {},
   "source": [
    "### Math functions\n",
    "\n",
    "Python has a math module that provides most of the familiar mathematical functions. A **module** is a file that contains a collection of related functions grouped together.\n",
    "\n",
    "Before we can use the functions from a module, we have to import them:\n",
    "\n",
    "```python\n",
    ">>> import math \n",
    "```"
   ]
  },
  {
   "cell_type": "code",
   "execution_count": 17,
   "metadata": {
    "collapsed": false
   },
   "outputs": [
    {
     "name": "stdout",
     "output_type": "stream",
     "text": [
      "0.997494986604\n"
     ]
    }
   ],
   "source": [
    "import math\n",
    "\n",
    "print math.sin(1.5)"
   ]
  },
  {
   "cell_type": "code",
   "execution_count": 18,
   "metadata": {
    "collapsed": false
   },
   "outputs": [
    {
     "name": "stdout",
     "output_type": "stream",
     "text": [
      "0.707106781187\n"
     ]
    }
   ],
   "source": [
    "print math.sqrt(2) / 2.0"
   ]
  },
  {
   "cell_type": "markdown",
   "metadata": {},
   "source": [
    "### Adding new functions\n",
    "\n",
    "Creating new functions to solve your particular problems is one of the most useful things about a general-purpose programming language."
   ]
  },
  {
   "cell_type": "code",
   "execution_count": 19,
   "metadata": {
    "collapsed": false
   },
   "outputs": [
    {
     "data": {
      "text/plain": [
       "11"
      ]
     },
     "execution_count": 19,
     "metadata": {},
     "output_type": "execute_result"
    }
   ],
   "source": [
    "def foo(x):\n",
    "    x = x + 1\n",
    "    return x\n",
    "\n",
    "foo(10)"
   ]
  },
  {
   "cell_type": "markdown",
   "metadata": {},
   "source": [
    "Python functions are defined using the `def` keyword. For example:"
   ]
  },
  {
   "cell_type": "code",
   "execution_count": 20,
   "metadata": {
    "collapsed": false
   },
   "outputs": [
    {
     "name": "stdout",
     "output_type": "stream",
     "text": [
      "negative\n",
      "zero\n",
      "positive\n"
     ]
    }
   ],
   "source": [
    "def sign(x):\n",
    "    if x > 0:\n",
    "        return 'positive'\n",
    "    elif x < 0:\n",
    "        return 'negative'\n",
    "    else:\n",
    "        return 'zero'\n",
    "\n",
    "print sign(-1)\n",
    "print sign(0)\n",
    "print sign(10)"
   ]
  },
  {
   "cell_type": "code",
   "execution_count": 21,
   "metadata": {
    "collapsed": false
   },
   "outputs": [
    {
     "data": {
      "text/plain": [
       "12"
      ]
     },
     "execution_count": 21,
     "metadata": {},
     "output_type": "execute_result"
    }
   ],
   "source": [
    "def add_2(number):\n",
    "    return number + 2\n",
    "\n",
    "add_2(10)"
   ]
  },
  {
   "cell_type": "markdown",
   "metadata": {},
   "source": [
    "We will often define functions to take optional keyword arguments, like this:"
   ]
  },
  {
   "cell_type": "code",
   "execution_count": 22,
   "metadata": {
    "collapsed": false,
    "scrolled": true
   },
   "outputs": [
    {
     "name": "stdout",
     "output_type": "stream",
     "text": [
      "Hello, Bob!\n",
      "HELLO, FRED\n"
     ]
    }
   ],
   "source": [
    "def hello(name, loud=False):\n",
    "    if loud:\n",
    "        print 'HELLO, %s' % name.upper()\n",
    "    else:\n",
    "        print 'Hello, %s!' % name\n",
    "        \n",
    "hello('Bob')\n",
    "hello('Fred', loud=True)"
   ]
  },
  {
   "cell_type": "markdown",
   "metadata": {},
   "source": [
    "Read python document [how to use build-in function with the argument]: https://docs.python.org/2/library/functions.html#len"
   ]
  },
  {
   "cell_type": "markdown",
   "metadata": {},
   "source": [
    "# References\n",
    "\n",
    "* Code convention:  PEP 8 — the Style Guide for Python Code - [http://pep8.org](http://pep8.org)\n",
    "* Online Course, code Python in your browser - [https://www.datacamp.com](https://www.datacamp.com/courses/intro-to-python-for-data-science)\n",
    "* Python 2.7.13 documentation - [https://docs.python.org/2/](https://docs.python.org/2/)\n",
    "* Basic Python Exercises - [Google for Education](https://developers.google.com/edu/python/exercises/basic)\n",
    "* [[Book] Learning with Python - How to Think Like a Computer Scientist](http://greenteapress.com/wp/learning-with-python/)\n",
    "* Python Numpy Tutorial - [http://cs231n.github.io/python-numpy-tutorial/](http://cs231n.github.io/python-numpy-tutorial/)"
   ]
  },
  {
   "cell_type": "markdown",
   "metadata": {},
   "source": [
    "# Homework exercise\n",
    "\n",
    "* Homework reading: Python Classes ([https://docs.python.org/2/tutorial/classes.html](https://docs.python.org/2/tutorial/classes.html)), list, set\n",
    "* Try to use 10 build-in functions."
   ]
  },
  {
   "cell_type": "markdown",
   "metadata": {},
   "source": [
    "## Exercise\n",
    "### a. Odd Or Even \n",
    "Ask the user for a number. Depending on whether the number is even or odd, print out an appropriate message to the user. \n",
    "\n",
    "```python\n",
    ">>> n = input(\"Input n = \")\n",
    ">>> odd_even(n) \n",
    "```\n",
    "\n",
    "Extras:\n",
    "\n",
    "* If the number is a multiple of 4, print out a different message.\n",
    "\n",
    "    ```python\n",
    "    >>> odd_even(7)\n",
    "      'odd'\n",
    "    >>> odd_even(4)\n",
    "      'the number is a multiple of 4' \n",
    "    ```\n",
    "\n",
    "* Ask the user for two numbers: one number to check (call it num) and one number to divide by (check). If check divides evenly into num, tell that to the user. If not, print a different appropriate message.\n",
    "\n",
    "    ```python\n",
    "    >>> check(10,2)\n",
    "        '10 divides evenly by 2'\n",
    "    \n",
    "    >>> check(11,2)\n",
    "        '11 does not divide evenly by 2'\n",
    "    ```"
   ]
  },
  {
   "cell_type": "markdown",
   "metadata": {},
   "source": [
    "### b. Max Of Three \n",
    "Implement a function that takes as input three variables, and returns the largest of the three. Do this function just in 1 or 2 line.\n",
    "\n",
    "```python\n",
    ">>> max_of_three(5,20,2) \n",
    "20\n",
    "```\n",
    "\n",
    "### c. Max Of Three (without `max()` function) \n",
    "Implement a function that takes as input three variables, and returns the largest of the three. Do this without using the Python `max()` function!\n",
    "\n",
    "```python\n",
    ">>> max_of_three(5,20,2) \n",
    "20\n",
    "```\n",
    "\n",
    "### d. Calculating Area of Circle\n",
    "Using `math`, implement a function that calculating the area of circle, given by `radius` arg.\n",
    "\n",
    "```python\n",
    ">>> calculate_area(10)\n",
    "    314.159265359\n",
    "```\n",
    "\n",
    "### e. Reverse Word Order Solutions\n",
    "\n",
    "Write a program that asks the user for a long string containing multiple words. Print back to the user the same string, except with the words in backwards order.\n",
    "\n",
    "```python\n",
    ">>> reverse_str(\"My name is Duyet\")\n",
    "    \"Duyet is name My\"\n",
    "```\n",
    "\n",
    "### f. not_string\n",
    "\n",
    "Given a string, return a new string where **\"not\"** has been added to the front. However, if the string already begins with \"not\", return the string **unchanged**.\n",
    "\n",
    "```python\n",
    ">>> not_string('candy')\n",
    "    'not candy'\n",
    "    \n",
    ">>> not_string('x')\n",
    "    'not x'\n",
    "    \n",
    ">>> not_string('not bad')\n",
    "    'not bad'\n",
    "```\n",
    "\n",
    "### g. negative/positive.\n",
    "\n",
    "Given 2 int values, return **True** if one is **negative** and one is **positive**.\n",
    "\n",
    "```python\n",
    ">>> pos_neg(-1, 1)\n",
    "    True\n",
    "    \n",
    ">>> pos_neg(100, 200)\n",
    "    False\n",
    "```\n",
    "\n",
    "### h. Ahihi\n",
    "\n",
    "Given a string and a non-negative int **n**, return a larger string that is n copies of the original string.\n",
    "\n",
    "```python\n",
    ">>> string_times('Hi', 2)\n",
    "    'HiHi'\n",
    "    \n",
    ">>> string_times('Hi', 3)\n",
    "    'HiHiHi'\n",
    "    \n",
    ">>> string_times('Hi', 1)\n",
    "    'Hi'\n",
    "```\n",
    "\n",
    "### i. First-half\n",
    "\n",
    "Given a string of even length, return the first half. So the string **\"WooHoo\"** yields **\"Woo\"**.\n",
    "\n",
    "```python\n",
    ">>> first_half('WooHoo')\n",
    "    'Woo'\n",
    "    \n",
    ">>> first_half('HelloThere')\n",
    "    'Hello'\n",
    "    \n",
    ">>> first_half('abcdef')\n",
    "    'abc'\n",
    "```\n",
    "\n",
    "### j. Number 6\n",
    "\n",
    "The number 6 is a truly great number. Given two int values, **a** and **b**, return **True** if either one is 6. Or if **their sum** or **difference** is **6**. \n",
    "\n",
    "Note: the function `abs(num)` computes the absolute value of a number.\n",
    "\n",
    "```python\n",
    ">>> love6(6, 7)\n",
    "    True\n",
    ">>> love6(1, 5) # Sum = 6\n",
    "    True\n",
    ">>> love6(13, 7) # 13 - 7 = 6\n",
    "    True\n",
    ">>> love6(2,9)\n",
    "    False\n",
    "```"
   ]
  },
  {
   "cell_type": "code",
   "execution_count": null,
   "metadata": {
    "collapsed": true
   },
   "outputs": [],
   "source": []
  }
 ],
 "metadata": {
  "kernelspec": {
   "display_name": "Python 2",
   "language": "python",
   "name": "python2"
  },
  "language_info": {
   "codemirror_mode": {
    "name": "ipython",
    "version": 2
   },
   "file_extension": ".py",
   "mimetype": "text/x-python",
   "name": "python",
   "nbconvert_exporter": "python",
   "pygments_lexer": "ipython2",
   "version": "2.7.13"
  }
 },
 "nbformat": 4,
 "nbformat_minor": 2
}
