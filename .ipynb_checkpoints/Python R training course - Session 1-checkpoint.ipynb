{
 "cells": [
  {
   "cell_type": "markdown",
   "metadata": {},
   "source": [
    "Python is nowadays become an active programming language used for scientic computing, especially it is widely used in data science.  Moreover, Pythonis totally free and prefered by a lot of companies.  Based on this signicantneed, we aim to provide the JVN students the most important knowledgein Python. \n",
    "\n",
    "Adapted  by  Volodymyr  Kuleshov  and  Isaac  Caswell  from  the  CS231n\n",
    "\n",
    "Python tutorial by Justin Johnson ([http://cs231n.github.io/python-numpy-tutorial/](http://cs231n.github.io/python-numpy-tutorial/)). The theory is from MIT Opencourseware: A Gentle Introduction to Programming Using Python ([http://ocw.mit.edu](http://ocw.mit.edu/courses/electrical-engineering-and-computer-science/6-189-a-gentle-introduction-to-programming-using-python-january-iap-2011/readings/))\n",
    "\n",
    "\n",
    "**Lecture list**\n",
    "\n",
    "1. **Introduction to Python**\n",
    "\n",
    "    * What and Why is Python: the signicance of Python in computer science, data science community and other fields.\n",
    "    * How to setup and access Python environment (e.g: install, start, stop). Students are required to be familiar with using command line to carry out some code.\n",
    "    * Simple Python convention (variables, constants, operations) and coding convention (naming variables).\n",
    "    * Function\n",
    "\n",
    "2. The Python Standard Library, if/loops statements\n",
    "\n",
    "    * Some useful and basic built-in functions (abs, etc.)\n",
    "    * How to use import to import libraries (ex: math, random). We will introduce you several basic libraries that are often used in Python.\n",
    "    * Introduce Comparison and Boolean Operators (if/else/while/for)\n",
    "    * Students are also introduced the concept of object-orientation in Python.\n",
    "\n",
    "3. Vector/matrix structures, `numpy` library\n",
    "\n",
    "    * Vector/matrix: structures in Python, some built-in functions, Operators for vector/matrix (access, comparation, search)\n",
    "    * Introduce to module Numpy\n",
    "\n",
    "4. Python data types, File Processing, `Pandas` library\n",
    "\n",
    "    * Introduce String/List and basic built-in functions and operators for String/List.\n",
    "    * Structure of Python files. Read/create a file.\n",
    "    * Read csv file using `Pandas` library\n",
    "\n",
    "5. Functions in Python, Debugging.\n",
    "\n",
    "    * What is functions and how to define functions in Python\n",
    "    * Passing Arguments to Functions\n",
    "    * Common errors in Python\n",
    "\n",
    "6. Introduction to R, R for Python programmers.\n",
    "\n",
    "    * From Python to R.\n",
    "    * Variable, using library, function in R\n",
    "\n",
    "7. Import data, plot data.\n",
    "\n",
    "    * Read csv file, quick summary.\n",
    "    * Plot data.\n",
    "\n",
    "8. Data Mining in Python/R."
   ]
  },
  {
   "cell_type": "markdown",
   "metadata": {},
   "source": [
    "# Introduction to Python\n",
    "\n",
    "Python is a great general-purpose programming language on its own,  butwith the help of a few popular libraries (*numpy, scipy, matplotlib*) it becomesa powerful environment for scientific computing.\n",
    "\n",
    "## Why we choose Python\n",
    "### Popular\n",
    "\n",
    "Python is a general-use high-level programming language that bills itself aspowerful,  fast,  friendly,  open,  and easy to learn.  Python “plays well withothers” and “runs everywhere”.\n",
    "\n",
    "Bank of America uses Python to crunch financial data.  The TheoreticalPhysics Division of Los Alamos National Laboratory chose Python to notonly  control  simulations,  but  also  analyze  and  visualize  data.   Facebookturns to the Python library Pandas for its data analysis because it sees thebenefit of using one programming language across multiple applications.\n",
    "\n",
    "## Simple\n",
    "Python is easy to use, powerful, and versatile, making it a great choice for beginners and experts alike. Python’s readability makes it a great first programming language — it allows you to think like a programmer and not waste time understanding the mysterious syntax that other programming languages can require.\n",
    "\n",
    "## Write once run every where\n",
    "Supporting Operate System : Windows, Linux/Unix, MacOS\n",
    "\n",
    "## References\n",
    "\n",
    "* http://www.mastersindatascience.org/data-scientist-skills/python/\n",
    "* https://www.codeschool.com/blog/2016/01/27/why-python/\n",
    "* https://www.quora.com/Why-is-Python-a-language-of-choice-for-data-scientists\n",
    "* http://www.kdnuggets.com/2015/05/r-vs-python-data-science.html\n"
   ]
  },
  {
   "cell_type": "markdown",
   "metadata": {},
   "source": [
    "# Install Python\n",
    "\n",
    "We highly recommend all of you install Anaconda Python [https://www.continuum.io/downloads](https://www.continuum.io/downloads)\n",
    "\n",
    "![](figs/session_1/anaconda.png)\n",
    "\n",
    "Benefit when using Python Anaconda:\n",
    "\n",
    "*  Easy setup and install a stable environment for Python programming.\n",
    "*  720+ data science packages for interactive data visualizations, machine learning,\n",
    "deep learning and Big Data.\n",
    "*  World-class package, dependency and environment management.\n",
    "\n",
    "# Basics of Python\n",
    "\n",
    "Python is a high-level, dynamically typed multiparadigm programming language. Python code\n",
    "is often said to be almost like pseudocode, since it allows you to express very powerful ideas in very few lines of code while being very readable. As an example, here is an implementation of the classic quicksort algorithm in Python"
   ]
  },
  {
   "cell_type": "code",
   "execution_count": 1,
   "metadata": {
    "scrolled": true
   },
   "outputs": [
    {
     "name": "stdout",
     "output_type": "stream",
     "text": [
      "[1, 1, 2, 3, 6, 8, 10]\n"
     ]
    }
   ],
   "source": [
    "def quicksort(arr):\n",
    "    '''\n",
    "    quicksort function\n",
    "    '''\n",
    "    if len(arr) <= 1:\n",
    "        return arr\n",
    "    \n",
    "    pivot = arr[len(arr) / 2]\n",
    "    left = [x for x in arr if x < pivot]\n",
    "    middle = [x for x in arr if x == pivot]\n",
    "    right = [x for x in arr if x > pivot]\n",
    "    \n",
    "    return quicksort(left) + middle + quicksort(right)\n",
    "\n",
    "print quicksort([3,6,8,10,1,2,1])"
   ]
  },
  {
   "cell_type": "markdown",
   "metadata": {},
   "source": [
    "There are currently two different supported versions of Python, 2.7 and 3.4. Somewhat confusingly, Python 3.0 introduced many backwards-incompatible changes to the language, so code\n",
    "written for 2.7 may not work under 3.4 and vice versa. For this class all code will use Python\n",
    "2.7.\n",
    "\n",
    "You can check your Python version at the command line by running `python --version`."
   ]
  },
  {
   "cell_type": "markdown",
   "metadata": {},
   "source": [
    "## Variables, expressions and statements\n",
    "\n",
    "Reference: http://www.greenteapress.com/thinkpython/thinkCSpy/html/chap02.html\n",
    "\n",
    "### Values and types\n",
    "\n",
    "A value is one of the fundamental things like a letter or a number that a program manipulates. The values we have seen so far are 2 (the result when we added `1 + 1`), and `'Hello, World!'`.\n"
   ]
  },
  {
   "cell_type": "code",
   "execution_count": 2,
   "metadata": {
    "scrolled": true
   },
   "outputs": [
    {
     "data": {
      "text/plain": [
       "4"
      ]
     },
     "execution_count": 2,
     "metadata": {},
     "output_type": "execute_result"
    }
   ],
   "source": [
    "1 + 3"
   ]
  },
  {
   "cell_type": "code",
   "execution_count": 3,
   "metadata": {
    "scrolled": true
   },
   "outputs": [
    {
     "data": {
      "text/plain": [
       "'Hello, World!'"
      ]
     },
     "execution_count": 3,
     "metadata": {},
     "output_type": "execute_result"
    }
   ],
   "source": [
    "'Hello, World!'"
   ]
  },
  {
   "cell_type": "markdown",
   "metadata": {},
   "source": [
    "These values belong to different **types**: `2` is an **integer**, and `'Hello, World!'` is a **string**, so-called because it contains a \"string\" of letters.\n",
    "\n",
    "The print statement also works for integers:"
   ]
  },
  {
   "cell_type": "code",
   "execution_count": 4,
   "metadata": {},
   "outputs": [
    {
     "name": "stdout",
     "output_type": "stream",
     "text": [
      "2\n"
     ]
    }
   ],
   "source": [
    "print 2"
   ]
  },
  {
   "cell_type": "markdown",
   "metadata": {},
   "source": [
    "If you are not sure what type a value has, the interpreter can tell you."
   ]
  },
  {
   "cell_type": "code",
   "execution_count": 5,
   "metadata": {},
   "outputs": [
    {
     "name": "stdout",
     "output_type": "stream",
     "text": [
      "<type 'str'>\n",
      "<type 'int'>\n"
     ]
    }
   ],
   "source": [
    "print type('17')\n",
    "print type(17)"
   ]
  },
  {
   "cell_type": "markdown",
   "metadata": {},
   "source": [
    "### Variables\n",
    "A variable is a name that refers to a value. The **assignment statement** creates new variables and gives them values:"
   ]
  },
  {
   "cell_type": "code",
   "execution_count": 6,
   "metadata": {
    "collapsed": true
   },
   "outputs": [],
   "source": [
    "message = \"JVN\"\n",
    "n = 10"
   ]
  },
  {
   "cell_type": "code",
   "execution_count": 7,
   "metadata": {},
   "outputs": [
    {
     "name": "stdout",
     "output_type": "stream",
     "text": [
      "JVN\n"
     ]
    }
   ],
   "source": [
    "print message"
   ]
  },
  {
   "cell_type": "code",
   "execution_count": 8,
   "metadata": {},
   "outputs": [
    {
     "name": "stdout",
     "output_type": "stream",
     "text": [
      "Hi, JVN\n"
     ]
    }
   ],
   "source": [
    "print \"Hi, \" + message"
   ]
  },
  {
   "cell_type": "markdown",
   "metadata": {},
   "source": [
    "**Variable names and keywords**\n",
    "\n",
    "Programmers generally choose names for their variables that are meaningful they document what the variable is used for.\n",
    "\n",
    "Variable names can be arbitrarily long. They can contain both letters and numbers, but:\n",
    "\n",
    "* they have to begin with a letter. Although it is legal to use uppercase letters, by convention we don't.\n",
    "* `JVN` and `Jvn` are different variables.\n",
    "* the underscore character (_) can appear in a name. Such as `my_name` or `_n`\n",
    "\n",
    "If you give a variable an illegal name, you get a syntax error:"
   ]
  },
  {
   "cell_type": "code",
   "execution_count": 9,
   "metadata": {
    "scrolled": false
   },
   "outputs": [
    {
     "ename": "SyntaxError",
     "evalue": "invalid syntax (<ipython-input-9-a5f509298d77>, line 1)",
     "output_type": "error",
     "traceback": [
      "\u001b[0;36m  File \u001b[0;32m\"<ipython-input-9-a5f509298d77>\"\u001b[0;36m, line \u001b[0;32m1\u001b[0m\n\u001b[0;31m    76trombones = 'big parade'\u001b[0m\n\u001b[0m              ^\u001b[0m\n\u001b[0;31mSyntaxError\u001b[0m\u001b[0;31m:\u001b[0m invalid syntax\n"
     ]
    }
   ],
   "source": [
    "76trombones = 'big parade'"
   ]
  },
  {
   "cell_type": "code",
   "execution_count": 10,
   "metadata": {
    "scrolled": true
   },
   "outputs": [
    {
     "ename": "SyntaxError",
     "evalue": "invalid syntax (<ipython-input-10-07be154a2b96>, line 1)",
     "output_type": "error",
     "traceback": [
      "\u001b[0;36m  File \u001b[0;32m\"<ipython-input-10-07be154a2b96>\"\u001b[0;36m, line \u001b[0;32m1\u001b[0m\n\u001b[0;31m    while = 1000000\u001b[0m\n\u001b[0m          ^\u001b[0m\n\u001b[0;31mSyntaxError\u001b[0m\u001b[0;31m:\u001b[0m invalid syntax\n"
     ]
    }
   ],
   "source": [
    "while = 1000000"
   ]
  },
  {
   "cell_type": "markdown",
   "metadata": {},
   "source": [
    "It turns out that class is one of the Python **keywords**. Keywords define the language's rules and structure, and they cannot be used as variable names.\n",
    "\n",
    "Python has twenty-nine keywords:\n",
    "\n",
    "```\n",
    "and       def       exec      if        not       return \n",
    "assert    del       finally   import    or        try \n",
    "break     elif      for       in        pass      while \n",
    "class     else      from      is        print     yield \n",
    "continue  except    global    lambda    raise \n",
    "```"
   ]
  },
  {
   "cell_type": "markdown",
   "metadata": {},
   "source": [
    "### Statements\n",
    "\n",
    "A statement is an instruction that the Python interpreter can execute. We have seen two kinds of statements: print and assignment.\n",
    "\n",
    "When you type a statement on the command line, Python executes it and displays the result, if there is one. The result of a print statement is a value. Assignment statements don't produce a result.\n",
    "\n",
    "A script usually contains a sequence of statements. If there is more than one statement, the results appear one at a time as the statements execute.\n",
    "\n",
    "For example, the script\n",
    "\n",
    "```python\n",
    ">>> print 1 \n",
    ">>> x = 2 \n",
    ">>> print x \n",
    "```\n",
    "\n",
    "produces the output\n",
    "\n",
    "```\n",
    "1 \n",
    "2 \n",
    "```\n",
    "\n",
    "Again, the assignment statement produces no output."
   ]
  },
  {
   "cell_type": "markdown",
   "metadata": {},
   "source": [
    "### Operators and operands\n",
    "\n",
    "Operators are special symbols that represent computations like addition and multiplication. The values the operator uses are called operands.\n",
    "\n",
    "The following are all legal Python expressions whose meaning is more or less clear:\n",
    "\n",
    "```python\n",
    "20+32   hour-1   hour*60+minute   minute/60   5**2   (5+9)*(15-7) \n",
    "```\n",
    "\n",
    "Operators:\n",
    "\n",
    "* Arithmatic: +, -, *, /, and % (modulus)\n",
    "* Comparison: ==, !=, <, >, <=, >=\n",
    "* Logical: and, or, not\n",
    "* Exponentiation: **"
   ]
  },
  {
   "cell_type": "markdown",
   "metadata": {},
   "source": [
    "## Functions\n",
    "\n",
    "### Function calls\n",
    "\n",
    "You have already seen one example of a function call:\n",
    "\n",
    "```python\n",
    ">>> type(\"32\") \n",
    "<type 'str'> \n",
    "```\n",
    "\n",
    "* **type** is function name, it displays the type of a value or variable.\n",
    "* **\"32\"** is **argument** of the function\n",
    "* **`<type 'str'>`** The result is called the return value.\n",
    "\n",
    "Instead of printing the return value, we could assign it to a variable:\n",
    "\n",
    "```python\n",
    ">>> betty = type(\"123456\") \n",
    ">>> print betty \n",
    "<type 'str'> \n",
    "```\n",
    "\n",
    "Some build-in function of python: [https://docs.python.org/2/library/functions.html](https://docs.python.org/2/library/functions.html)\n",
    "\n",
    "```\t\n",
    "\n",
    "abs()\t\tdivmod()\tinput()\t\t\topen()\t\tstaticmethod()\n",
    "all()\t\tenumerate()\tint()\t\t\tord()\t\tstr()\n",
    "any()\t\teval()\t\tisinstance()\tpow()\t\tsum()\n",
    "bin()\t\tfile()\t\titer()\t\t\tproperty()\ttuple()\n",
    "bool()\t\tfilter()\tlen()\t\t\trange()\t\ttype()\n",
    "dir()\t\tid()\t\toct()\t\t\tsorted()\t\t\t\n",
    "...\n",
    "```"
   ]
  },
  {
   "cell_type": "code",
   "execution_count": 11,
   "metadata": {},
   "outputs": [
    {
     "name": "stdout",
     "output_type": "stream",
     "text": [
      "10\n"
     ]
    }
   ],
   "source": [
    "print abs(-10)"
   ]
  },
  {
   "cell_type": "code",
   "execution_count": 12,
   "metadata": {},
   "outputs": [
    {
     "name": "stdout",
     "output_type": "stream",
     "text": [
      "11\n"
     ]
    }
   ],
   "source": [
    "print len(\"JVN Forever\")"
   ]
  },
  {
   "cell_type": "markdown",
   "metadata": {},
   "source": [
    "### Type conversion & Type coercion\n",
    "\n",
    "Python provides a collection of built-in functions that convert values from one type to another. The int function takes any value and converts it to an integer, if possible, or complains otherwise:"
   ]
  },
  {
   "cell_type": "code",
   "execution_count": 13,
   "metadata": {},
   "outputs": [
    {
     "name": "stdout",
     "output_type": "stream",
     "text": [
      "32\n",
      "3\n"
     ]
    }
   ],
   "source": [
    "print int(\"32\")\n",
    "print int(3.99999) "
   ]
  },
  {
   "cell_type": "code",
   "execution_count": 14,
   "metadata": {},
   "outputs": [
    {
     "ename": "ValueError",
     "evalue": "invalid literal for int() with base 10: 'Hello'",
     "output_type": "error",
     "traceback": [
      "\u001b[0;31m---------------------------------------------------------------------------\u001b[0m",
      "\u001b[0;31mValueError\u001b[0m                                Traceback (most recent call last)",
      "\u001b[0;32m<ipython-input-14-f14c94228214>\u001b[0m in \u001b[0;36m<module>\u001b[0;34m()\u001b[0m\n\u001b[0;32m----> 1\u001b[0;31m \u001b[0;32mprint\u001b[0m \u001b[0mint\u001b[0m\u001b[0;34m(\u001b[0m\u001b[0;34m\"Hello\"\u001b[0m\u001b[0;34m)\u001b[0m\u001b[0;34m\u001b[0m\u001b[0m\n\u001b[0m",
      "\u001b[0;31mValueError\u001b[0m: invalid literal for int() with base 10: 'Hello'"
     ]
    }
   ],
   "source": [
    "print int(\"Hello\") "
   ]
  },
  {
   "cell_type": "code",
   "execution_count": null,
   "metadata": {
    "collapsed": true,
    "scrolled": true
   },
   "outputs": [],
   "source": [
    "# the str function converts to type string:\n",
    "str(32)"
   ]
  },
  {
   "cell_type": "markdown",
   "metadata": {},
   "source": [
    "**Type coercion:**"
   ]
  },
  {
   "cell_type": "code",
   "execution_count": 15,
   "metadata": {},
   "outputs": [
    {
     "data": {
      "text/plain": [
       "0"
      ]
     },
     "execution_count": 15,
     "metadata": {},
     "output_type": "execute_result"
    }
   ],
   "source": [
    "minute = 59\n",
    "minute / 60"
   ]
  },
  {
   "cell_type": "code",
   "execution_count": 16,
   "metadata": {},
   "outputs": [
    {
     "data": {
      "text/plain": [
       "0.9833333333333333"
      ]
     },
     "execution_count": 16,
     "metadata": {},
     "output_type": "execute_result"
    }
   ],
   "source": [
    "minute = 59\n",
    "float(minute) / 60"
   ]
  },
  {
   "cell_type": "markdown",
   "metadata": {},
   "source": [
    "### Math functions\n",
    "\n",
    "Python has a math module that provides most of the familiar mathematical functions. A **module** is a file that contains a collection of related functions grouped together.\n",
    "\n",
    "Before we can use the functions from a module, we have to import them:\n",
    "\n",
    "```python\n",
    ">>> import math \n",
    "```"
   ]
  },
  {
   "cell_type": "code",
   "execution_count": 17,
   "metadata": {},
   "outputs": [
    {
     "name": "stdout",
     "output_type": "stream",
     "text": [
      "0.997494986604\n"
     ]
    }
   ],
   "source": [
    "import math\n",
    "\n",
    "print math.sin(1.5)"
   ]
  },
  {
   "cell_type": "code",
   "execution_count": 18,
   "metadata": {},
   "outputs": [
    {
     "name": "stdout",
     "output_type": "stream",
     "text": [
      "0.707106781187\n"
     ]
    }
   ],
   "source": [
    "print math.sqrt(2) / 2.0"
   ]
  },
  {
   "cell_type": "markdown",
   "metadata": {},
   "source": [
    "### Adding new functions\n",
    "\n",
    "Creating new functions to solve your particular problems is one of the most useful things about a general-purpose programming language."
   ]
  },
  {
   "cell_type": "code",
   "execution_count": 19,
   "metadata": {},
   "outputs": [
    {
     "data": {
      "text/plain": [
       "11"
      ]
     },
     "execution_count": 19,
     "metadata": {},
     "output_type": "execute_result"
    }
   ],
   "source": [
    "def foo(x):\n",
    "    x = x + 1\n",
    "    return x\n",
    "\n",
    "foo(10)"
   ]
  },
  {
   "cell_type": "markdown",
   "metadata": {},
   "source": [
    "Python functions are defined using the `def` keyword. For example:"
   ]
  },
  {
   "cell_type": "code",
   "execution_count": 20,
   "metadata": {},
   "outputs": [
    {
     "name": "stdout",
     "output_type": "stream",
     "text": [
      "negative\n",
      "zero\n",
      "positive\n"
     ]
    }
   ],
   "source": [
    "def sign(x):\n",
    "    if x > 0:\n",
    "        return 'positive'\n",
    "    elif x < 0:\n",
    "        return 'negative'\n",
    "    else:\n",
    "        return 'zero'\n",
    "\n",
    "print sign(-1)\n",
    "print sign(0)\n",
    "print sign(10)"
   ]
  },
  {
   "cell_type": "code",
   "execution_count": 21,
   "metadata": {},
   "outputs": [
    {
     "data": {
      "text/plain": [
       "12"
      ]
     },
     "execution_count": 21,
     "metadata": {},
     "output_type": "execute_result"
    }
   ],
   "source": [
    "def add_2(number):\n",
    "    return number + 2\n",
    "\n",
    "add_2(10)"
   ]
  },
  {
   "cell_type": "markdown",
   "metadata": {},
   "source": [
    "We will often define functions to take optional keyword arguments, like this:"
   ]
  },
  {
   "cell_type": "code",
   "execution_count": 22,
   "metadata": {
    "scrolled": true
   },
   "outputs": [
    {
     "name": "stdout",
     "output_type": "stream",
     "text": [
      "Hello, Bob!\n",
      "HELLO, FRED\n"
     ]
    }
   ],
   "source": [
    "def hello(name, loud=False):\n",
    "    if loud:\n",
    "        print 'HELLO, %s' % name.upper()\n",
    "    else:\n",
    "        print 'Hello, %s!' % name\n",
    "        \n",
    "hello('Bob')\n",
    "hello('Fred', loud=True)"
   ]
  },
  {
   "cell_type": "markdown",
   "metadata": {},
   "source": [
    "Read python document [how to use build-in function with the argument]: https://docs.python.org/2/library/functions.html#len"
   ]
  },
  {
   "cell_type": "markdown",
   "metadata": {},
   "source": [
    "# References\n",
    "\n",
    "* Code convention:  PEP 8 — the Style Guide for Python Code - [http://pep8.org](http://pep8.org)\n",
    "* Online Course, code Python in your browser - [https://www.datacamp.com](https://www.datacamp.com/courses/intro-to-python-for-data-science)\n",
    "* Python 2.7.13 documentation - [https://docs.python.org/2/](https://docs.python.org/2/)\n",
    "* Basic Python Exercises - [Google for Education](https://developers.google.com/edu/python/exercises/basic)\n",
    "* [[Book] Learning with Python - How to Think Like a Computer Scientist](http://greenteapress.com/wp/learning-with-python/)\n",
    "* Python Numpy Tutorial - [http://cs231n.github.io/python-numpy-tutorial/](http://cs231n.github.io/python-numpy-tutorial/)"
   ]
  },
  {
   "cell_type": "markdown",
   "metadata": {},
   "source": [
    "# Homework exercise\n",
    "\n",
    "* Homework reading: Python Classes ([https://docs.python.org/2/tutorial/classes.html](https://docs.python.org/2/tutorial/classes.html)), list, set\n",
    "* Try to use 10 build-in functions."
   ]
  },
  {
   "cell_type": "markdown",
   "metadata": {},
   "source": [
    "## Exercise\n",
    "### a. Odd Or Even \n",
    "Ask the user for a number. Depending on whether the number is even or odd, print out an appropriate message to the user. \n",
    "\n",
    "```python\n",
    ">>> n = input(\"Input n = \")\n",
    ">>> odd_even(n) \n",
    "```\n",
    "\n",
    "Extras:\n",
    "\n",
    "* If the number is a multiple of 4, print out a different message.\n",
    "\n",
    "    ```python\n",
    "    >>> odd_even(7)\n",
    "      'odd'\n",
    "    >>> odd_even(4)\n",
    "      'the number is a multiple of 4' \n",
    "    ```\n",
    "\n",
    "* Ask the user for two numbers: one number to check (call it num) and one number to divide by (check). If check divides evenly into num, tell that to the user. If not, print a different appropriate message.\n",
    "\n",
    "    ```python\n",
    "    >>> check(10,2)\n",
    "        '10 divides evenly by 2'\n",
    "    \n",
    "    >>> check(11,2)\n",
    "        '11 does not divide evenly by 2'\n",
    "    ```"
   ]
  },
  {
   "cell_type": "code",
   "execution_count": 1,
   "metadata": {
    "collapsed": true
   },
   "outputs": [],
   "source": [
    "# Solution\n",
    "def odd_even(n):\n",
    "    if n % 2 == 0:\n",
    "        return 'odd'\n",
    "    return 'even'\n",
    "\n",
    "# Extra 1\n",
    "def odd_even(n):\n",
    "    if n % 4:\n",
    "        return 'the number is a multiple of 4'\n",
    "    if n % 2 == 0:\n",
    "        return 'odd'\n",
    "    return 'even'\n",
    "\n",
    "# Extra 2\n",
    "def check(a, b):\n",
    "    if a % b == 0:\n",
    "        return a, 'divides evenly by', b\n",
    "    return a, 'does not divide evenly by', b"
   ]
  },
  {
   "cell_type": "markdown",
   "metadata": {},
   "source": [
    "### b. Max Of Three \n",
    "Implement a function that takes as input three variables, and returns the largest of the three. Do this function just in 1 or 2 line.\n",
    "\n",
    "```python\n",
    ">>> max_of_three(5,20,2) \n",
    "20\n",
    "```"
   ]
  },
  {
   "cell_type": "code",
   "execution_count": 3,
   "metadata": {},
   "outputs": [
    {
     "data": {
      "text/plain": [
       "3"
      ]
     },
     "execution_count": 3,
     "metadata": {},
     "output_type": "execute_result"
    }
   ],
   "source": [
    "# Solution \n",
    "def max_of_three(a, b, c):\n",
    "    return max(max(a, b), c)\n",
    "\n",
    "max_of_three(1, 2, 3)"
   ]
  },
  {
   "cell_type": "markdown",
   "metadata": {},
   "source": [
    "### c. Max Of Three (without `max()` function) \n",
    "Implement a function that takes as input three variables, and returns the largest of the three. Do this without using the Python `max()` function!\n",
    "\n",
    "```python\n",
    ">>> max_of_three(5,20,2) \n",
    "20\n",
    "```"
   ]
  },
  {
   "cell_type": "code",
   "execution_count": 4,
   "metadata": {},
   "outputs": [
    {
     "data": {
      "text/plain": [
       "3"
      ]
     },
     "execution_count": 4,
     "metadata": {},
     "output_type": "execute_result"
    }
   ],
   "source": [
    "# Solution\n",
    "def max_of_three(a, b, c):\n",
    "    m = a if a > b else b\n",
    "    m = m if m > c else c\n",
    "    return m\n",
    "\n",
    "max_of_three(1,2,3)"
   ]
  },
  {
   "cell_type": "markdown",
   "metadata": {},
   "source": [
    "\n",
    "### d. Calculating Area of Circle\n",
    "Using `math`, implement a function that calculating the area of circle, given by `radius` arg.\n",
    "\n",
    "```python\n",
    ">>> calculate_area(10)\n",
    "    314.159265359\n",
    "```"
   ]
  },
  {
   "cell_type": "code",
   "execution_count": 5,
   "metadata": {},
   "outputs": [
    {
     "data": {
      "text/plain": [
       "314.1592653589793"
      ]
     },
     "execution_count": 5,
     "metadata": {},
     "output_type": "execute_result"
    }
   ],
   "source": [
    "# Solution\n",
    "import math\n",
    "\n",
    "def calculate_area(r):\n",
    "    return math.pi * (r**2)\n",
    "\n",
    "calculate_area(10)"
   ]
  },
  {
   "cell_type": "markdown",
   "metadata": {},
   "source": [
    "### e. Reverse Word Order Solutions\n",
    "\n",
    "Write a program that asks the user for a long string containing multiple words. Print back to the user the same string, except with the words in backwards order.\n",
    "\n",
    "```python\n",
    ">>> reverse_str(\"My name is Duyet\")\n",
    "    \"Duyet is name My\"\n",
    "```"
   ]
  },
  {
   "cell_type": "code",
   "execution_count": 6,
   "metadata": {},
   "outputs": [
    {
     "data": {
      "text/plain": [
       "'Duyet Van Le'"
      ]
     },
     "execution_count": 6,
     "metadata": {},
     "output_type": "execute_result"
    }
   ],
   "source": [
    "# Solution\n",
    "def reverse_str(s):\n",
    "    s = s.split()\n",
    "    return ' '.join(reversed(s))\n",
    "\n",
    "reverse_str(\"Le Van Duyet\")"
   ]
  },
  {
   "cell_type": "markdown",
   "metadata": {},
   "source": [
    "### f. not_string\n",
    "\n",
    "Given a string, return a new string where **\"not\"** has been added to the front. However, if the string already begins with \"not\", return the string **unchanged**.\n",
    "\n",
    "```python\n",
    ">>> not_string('candy')\n",
    "    'not candy'\n",
    "    \n",
    ">>> not_string('x')\n",
    "    'not x'\n",
    "    \n",
    ">>> not_string('not bad')\n",
    "    'not bad'\n",
    "```"
   ]
  },
  {
   "cell_type": "code",
   "execution_count": 8,
   "metadata": {},
   "outputs": [
    {
     "data": {
      "text/plain": [
       "'not bad'"
      ]
     },
     "execution_count": 8,
     "metadata": {},
     "output_type": "execute_result"
    }
   ],
   "source": [
    "# Solution\n",
    "def not_string(s):\n",
    "    s = s.strip()\n",
    "    if s[:3] == 'not':\n",
    "        return s\n",
    "    return 'not ' + s\n",
    "\n",
    "not_string(\"not bad\")"
   ]
  },
  {
   "cell_type": "code",
   "execution_count": 10,
   "metadata": {},
   "outputs": [
    {
     "data": {
      "text/plain": [
       "'not bad'"
      ]
     },
     "execution_count": 10,
     "metadata": {},
     "output_type": "execute_result"
    }
   ],
   "source": [
    "# Solution 2\n",
    "def not_string(s):\n",
    "    s = s.strip()\n",
    "    if s.find('not') == 0:\n",
    "        return s\n",
    "    return 'not ' + s\n",
    "\n",
    "not_string(\"bad\")"
   ]
  },
  {
   "cell_type": "markdown",
   "metadata": {},
   "source": [
    "### g. negative/positive.\n",
    "\n",
    "Given 2 int values, return **True** if one is **negative** and one is **positive**.\n",
    "\n",
    "```python\n",
    ">>> pos_neg(-1, 1)\n",
    "    True\n",
    "    \n",
    ">>> pos_neg(100, 200)\n",
    "    False\n",
    "```"
   ]
  },
  {
   "cell_type": "code",
   "execution_count": 11,
   "metadata": {},
   "outputs": [
    {
     "data": {
      "text/plain": [
       "True"
      ]
     },
     "execution_count": 11,
     "metadata": {},
     "output_type": "execute_result"
    }
   ],
   "source": [
    "# Solution\n",
    "def pos_neg(a, b):\n",
    "    if a * b < 0:\n",
    "        return True\n",
    "    return False\n",
    "\n",
    "pos_neg(-1, 1)"
   ]
  },
  {
   "cell_type": "markdown",
   "metadata": {},
   "source": [
    "### h. Ahihi\n",
    "\n",
    "Given a string and a non-negative int **n**, return a larger string that is n copies of the original string.\n",
    "\n",
    "```python\n",
    ">>> string_times('Hi', 2)\n",
    "    'HiHi'\n",
    "    \n",
    ">>> string_times('Hi', 3)\n",
    "    'HiHiHi'\n",
    "    \n",
    ">>> string_times('Hi', 1)\n",
    "    'Hi'\n",
    "```"
   ]
  },
  {
   "cell_type": "code",
   "execution_count": 12,
   "metadata": {},
   "outputs": [
    {
     "data": {
      "text/plain": [
       "'HiHiHi'"
      ]
     },
     "execution_count": 12,
     "metadata": {},
     "output_type": "execute_result"
    }
   ],
   "source": [
    "# Solution\n",
    "\n",
    "def string_times(s, n):\n",
    "    return s * n\n",
    "\n",
    "string_times(\"Hi\", 3)"
   ]
  },
  {
   "cell_type": "markdown",
   "metadata": {},
   "source": [
    "### i. First-half\n",
    "\n",
    "Given a string of even length, return the first half. So the string **\"WooHoo\"** yields **\"Woo\"**.\n",
    "\n",
    "```python\n",
    ">>> first_half('WooHoo')\n",
    "    'Woo'\n",
    "    \n",
    ">>> first_half('HelloThere')\n",
    "    'Hello'\n",
    "    \n",
    ">>> first_half('abcdef')\n",
    "    'abc'\n",
    "```\n"
   ]
  },
  {
   "cell_type": "code",
   "execution_count": 13,
   "metadata": {},
   "outputs": [
    {
     "data": {
      "text/plain": [
       "'Hello'"
      ]
     },
     "execution_count": 13,
     "metadata": {},
     "output_type": "execute_result"
    }
   ],
   "source": [
    "# Solution\n",
    "def first_half(s):\n",
    "    return s[:len(s) / 2]\n",
    "\n",
    "first_half('HelloThere')"
   ]
  },
  {
   "cell_type": "markdown",
   "metadata": {},
   "source": [
    "### j. Number 6\n",
    "\n",
    "The number 6 is a truly great number. Given two int values, **a** and **b**, return **True** if either one is 6. Or if **their sum** or **difference** is **6**. \n",
    "\n",
    "Note: the function `abs(num)` computes the absolute value of a number.\n",
    "\n",
    "```python\n",
    ">>> love6(6, 7)\n",
    "    True\n",
    ">>> love6(1, 5) # Sum = 6\n",
    "    True\n",
    ">>> love6(13, 7) # 13 - 7 = 6\n",
    "    True\n",
    ">>> love6(2,9)\n",
    "    False\n",
    "```"
   ]
  },
  {
   "cell_type": "code",
   "execution_count": 17,
   "metadata": {},
   "outputs": [
    {
     "name": "stdout",
     "output_type": "stream",
     "text": [
      "True\n",
      "True\n",
      "True\n",
      "False\n"
     ]
    }
   ],
   "source": [
    "# Solution\n",
    "\n",
    "def love6(a, b):\n",
    "    if a == 6 or b == 6: \n",
    "        return True\n",
    "    if abs(a - b) == 6 or (a + b) == 6:\n",
    "        return True\n",
    "    return False\n",
    "\n",
    "print love6(6, 7)\n",
    "print love6(1, 5)\n",
    "print love6(13, 7)\n",
    "print love6(2,9)"
   ]
  },
  {
   "cell_type": "code",
   "execution_count": null,
   "metadata": {
    "collapsed": true
   },
   "outputs": [],
   "source": []
  }
 ],
 "metadata": {
  "kernelspec": {
   "display_name": "Python 2",
   "language": "python",
   "name": "python2"
  },
  "language_info": {
   "codemirror_mode": {
    "name": "ipython",
    "version": 2
   },
   "file_extension": ".py",
   "mimetype": "text/x-python",
   "name": "python",
   "nbconvert_exporter": "python",
   "pygments_lexer": "ipython2",
   "version": "2.7.12"
  }
 },
 "nbformat": 4,
 "nbformat_minor": 2
}
