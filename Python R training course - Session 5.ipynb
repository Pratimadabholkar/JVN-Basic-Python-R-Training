{
 "cells": [
  {
   "cell_type": "markdown",
   "metadata": {},
   "source": [
    "**Lecture list**\n",
    "\n",
    "1. Introduction to Python\n",
    "\n",
    "2. The Python Standard Library, if/loops statements\n",
    "\n",
    "3. Vector/matrix structures, `numpy` library\n",
    "\n",
    "4. Python data types, File Processing, `Pandas` library\n",
    "\n",
    "5. **Functions in Python, Debugging.**\n",
    "\n",
    "    * Lambda function.\n",
    "    * Common errors in Python\n",
    "\n",
    "6. Introduction to R, R for Python programmers.\n",
    "\n",
    "7. Import data, plot data.\n",
    "\n",
    "8. Data Mining in Python/R."
   ]
  },
  {
   "cell_type": "markdown",
   "metadata": {},
   "source": [
    "# Debugging\n",
    "\n",
    "Different kinds of errors can occur in a program, and it is useful to distinguish among them in order to track them down more quickly:\n",
    "\n",
    "* Syntax errors are produced by Python when it is translating the source code into byte code. They usually indicate that there is something wrong with the syntax of the program. Example: Omitting the colon at the end of a def statement yields the somewhat redundant message SyntaxError: invalid syntax.\n",
    "* Runtime errors are produced by the runtime system if something goes wrong while the program is running. Most runtime error messages include information about where the error occurred and what functions were executing. Example: An infinite recursion eventually causes a runtime error of \"maximum recursion depth exceeded.\"\n",
    "* Semantic errors are problems with a program that compiles and runs but doesn't do the right thing. Example: An expression may not be evaluated in the order you expect, yielding an unexpected result.\n",
    "\n",
    "\n",
    "The first step in debugging is to figure out which kind of error you are dealing with. Although the following sections are organized by error type, some techniques are applicable in more than one situation.\n",
    "\n"
   ]
  },
  {
   "cell_type": "markdown",
   "metadata": {
    "collapsed": true
   },
   "source": [
    "## Syntax errors"
   ]
  },
  {
   "cell_type": "markdown",
   "metadata": {},
   "source": [
    "Syntax errors are usually easy to fix once you figure out what they are. Unfortunately, the error messages are often not helpful. The most common messages are **SyntaxError: invalid syntax** and **SyntaxError: invalid token**, neither of which is very informative.\n",
    "\n",
    "On the other hand, the message does tell you where in the program the problem occurred. Actually, it tells you where Python noticed a problem, which is not necessarily where the error is. Sometimes the error is prior to the location of the error message, often on the preceding line.\n",
    "\n",
    "If you are building the program incrementally, you should have a good idea about where the error is. It will be in the last line you added.\n",
    "\n",
    "If you are copying code from a book, start by comparing your code to the book's code very carefully. Check every character. At the same time, remember that the book might be wrong, so if you see something that looks like a syntax error, it might be.\n",
    "\n",
    "Here are some ways to avoid the most common syntax errors:\n",
    "\n",
    "* Make sure you are not using a Python keyword for a variable name.\n",
    "* Check that you have a colon at the end of the header of every compound statement, including for, while, if, and def statements.\n",
    "* Check that indentation is consistent. You may indent with either spaces or tabs but it's best not to mix them. Each level should be nested the same amount.\n",
    "* Make sure that any strings in the code have matching quotation marks.\n",
    "* If you have multiline strings with triple quotes (single or double), make sure you have terminated the string properly. An unterminated string may cause an invalid token error at the end of your program, or it may treat the following part of the program as a string until it comes to the next string. In the second case, it might not produce an error message at all!\n",
    "* An unclosed bracket     (, {, or [     makes Python continue with the next line as part of the current statement. Generally, an error occurs almost immediately in the next line.\n",
    "* Check for the classic = instead of == inside a conditional.\n",
    "\n",
    "If nothing works, move on to the next section...\n",
    "\n",
    "\n"
   ]
  },
  {
   "cell_type": "markdown",
   "metadata": {},
   "source": [
    "## Runtime errors\n",
    "\n",
    "Once your program is syntactically correct, Python can import it and at least start running it. What could possibly go wrong?\n",
    "\n",
    "### My program hangs.\n",
    "\n",
    "\n",
    "This problem is most common when your file consists of functions and classes but does not actually invoke anything to start execution. This may be intentional if you only plan to import this module to supply classes and functions.\n",
    "\n"
   ]
  }
 ],
 "metadata": {
  "kernelspec": {
   "display_name": "Python 2",
   "language": "python",
   "name": "python2"
  },
  "language_info": {
   "codemirror_mode": {
    "name": "ipython",
    "version": 2
   },
   "file_extension": ".py",
   "mimetype": "text/x-python",
   "name": "python",
   "nbconvert_exporter": "python",
   "pygments_lexer": "ipython2",
   "version": "2.7.13"
  }
 },
 "nbformat": 4,
 "nbformat_minor": 2
}
