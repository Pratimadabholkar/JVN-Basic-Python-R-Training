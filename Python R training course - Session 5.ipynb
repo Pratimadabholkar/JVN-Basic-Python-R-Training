{
 "cells": [
  {
   "cell_type": "markdown",
   "metadata": {},
   "source": [
    "**Lecture list**\n",
    "\n",
    "1. Introduction to Python\n",
    "\n",
    "2. The Python Standard Library, if/loops statements\n",
    "\n",
    "3. Vector/matrix structures, `numpy` library\n",
    "\n",
    "4. Python data types, File Processing, `Pandas` library\n",
    "\n",
    "5. **Functions in Python, Debugging.**\n",
    "\n",
    "    * Lambda function.\n",
    "    * Recursion.\n",
    "    * Common errors in Python.\n",
    "\n",
    "6. Introduction to R, R for Python programmers.\n",
    "\n",
    "7. Import data, plot data.\n",
    "\n",
    "8. Data Mining in Python/R."
   ]
  },
  {
   "cell_type": "markdown",
   "metadata": {
    "collapsed": true
   },
   "source": [
    "# Lambda function\n",
    "\n",
    "## Syntax of Lambda Function\n",
    "\n",
    "In Python, anonymous function (lambda function) is a function that is defined without a name.\n",
    "\n",
    "While normal functions are defined using the **def** keyword, in Python anonymous functions are defined using the **lambda** keyword. Hence, anonymous functions are also called lambda functions.\n",
    "\n",
    "Syntax:\n",
    "\n",
    "```python\n",
    "lambda arguments: expression\n",
    "```\n",
    "\n",
    "Example: \n",
    "\n",
    "```python\n",
    ">>> S = lambda a, b: a + b\n",
    ">>> S(5, 7)\n",
    "    12\n",
    "```\n",
    "\n",
    "```python\n",
    ">>> double = lambda x: x * 2\n",
    ">>> double(5)\n",
    "    10\n",
    "```\n",
    "\n",
    "Lambda functions can have any number of arguments but only one expression. The expression is evaluated and returned. Lambda functions can be used wherever function objects are required.\n",
    "\n",
    "\n",
    "In the above program, **lambda x: x * 2** is the `lambda function`. Here **x** is the argument and **x * 2** is the expression that gets evaluated and returned.\n",
    "\n",
    "This function has no name. It returns a function object which is assigned to the identifier **double**. We can now call it as a normal function. The statement\n",
    "\n",
    "```python\n",
    "double = lambda x: x * 2\n",
    "```\n",
    "\n",
    "is nearly the same as\n",
    "\n",
    "```python\n",
    "def double(x):\n",
    "    return x * 2\n",
    "```\n",
    "\n",
    "\n"
   ]
  },
  {
   "cell_type": "markdown",
   "metadata": {},
   "source": [
    "## Use of Lambda Function\n",
    "\n",
    "We use lambda functions when we require a nameless function for a short period of time.\n",
    "\n",
    "In Python, we generally use it as an argument to a higher-order function (a function that takes in other functions as [arguments](https://www.programiz.com/python-programming/function-argument)). Lambda functions are used along with built-in functions like `filter()`, `map()` etc.\n",
    "\n",
    "**Example use with filter()**\n",
    "\n",
    "The **filter()** function in Python takes in a function and a list as arguments.\n",
    "\n",
    "The function is called with all the items in the list and a new list is returned which contains items for which the function evaluats to `True`.\n",
    "\n",
    "Here is an example use of filter() function to filter out only even numbers from a list.\n",
    "\n",
    "\n",
    "```python\n",
    ">>> def is_odd(x):\n",
    ">>>     return x % 2 == 0\n",
    ">>>\n",
    ">>> my_list = [1, 5, 4, 6, 8, 11, 3, 12]\n",
    ">>> new_list = list(filter(is_odd, my_list))\n",
    "    [4, 6, 8, 12]\n",
    "```\n",
    "\n",
    "Instead, we can use lambda function:\n",
    "\n",
    "```python\n",
    ">>> my_list = [1, 5, 4, 6, 8, 11, 3, 12]\n",
    ">>> new_list = list(filter(lambda x: x % 2 == 0, my_list))\n",
    "    [4, 6, 8, 12]\n",
    "```"
   ]
  },
  {
   "cell_type": "markdown",
   "metadata": {},
   "source": [
    "**Example use with map()**\n",
    "\n",
    "The **map()** function in Python takes in a function and a list.\n",
    "\n",
    "The function is called with all the items in the list and a new list is returned which contains items returned by that function for each item.\n",
    "\n",
    "Here is an example use of **map()** function to double all the items in a list.\n",
    "\n",
    "```python\n",
    ">>> my_list = [1, 5, 4, 6, 8, 11, 3, 12]\n",
    ">>> new_list = list(map(lambda x: x ** 2 , my_list))\n",
    "    [1, 25, 16, 36, 64, 121, 9, 144]\n",
    "```"
   ]
  },
  {
   "cell_type": "markdown",
   "metadata": {},
   "source": [
    "**Example use with Pandas DataFrames**\n",
    "\n",
    "For example, we have the dataframe:"
   ]
  },
  {
   "cell_type": "code",
   "execution_count": 10,
   "metadata": {},
   "outputs": [
    {
     "data": {
      "text/html": [
       "<div>\n",
       "<style>\n",
       "    .dataframe thead tr:only-child th {\n",
       "        text-align: right;\n",
       "    }\n",
       "\n",
       "    .dataframe thead th {\n",
       "        text-align: left;\n",
       "    }\n",
       "\n",
       "    .dataframe tbody tr th {\n",
       "        vertical-align: top;\n",
       "    }\n",
       "</style>\n",
       "<table border=\"1\" class=\"dataframe\">\n",
       "  <thead>\n",
       "    <tr style=\"text-align: right;\">\n",
       "      <th></th>\n",
       "      <th>col1</th>\n",
       "      <th>col2</th>\n",
       "      <th>col3</th>\n",
       "    </tr>\n",
       "  </thead>\n",
       "  <tbody>\n",
       "    <tr>\n",
       "      <th>0</th>\n",
       "      <td>a</td>\n",
       "      <td>b</td>\n",
       "      <td>1</td>\n",
       "    </tr>\n",
       "    <tr>\n",
       "      <th>1</th>\n",
       "      <td>a</td>\n",
       "      <td>b</td>\n",
       "      <td>2</td>\n",
       "    </tr>\n",
       "    <tr>\n",
       "      <th>2</th>\n",
       "      <td>c</td>\n",
       "      <td>d</td>\n",
       "      <td>3</td>\n",
       "    </tr>\n",
       "  </tbody>\n",
       "</table>\n",
       "</div>"
      ],
      "text/plain": [
       "  col1 col2  col3\n",
       "0    a    b     1\n",
       "1    a    b     2\n",
       "2    c    d     3"
      ]
     },
     "execution_count": 10,
     "metadata": {},
     "output_type": "execute_result"
    }
   ],
   "source": [
    "import pandas as pd\n",
    "from StringIO import StringIO\n",
    "\n",
    "df = pd.read_csv(StringIO(\"col1,col2,col3\\na,b,1\\na,b,2\\nc,d,3\"))\n",
    "df"
   ]
  },
  {
   "cell_type": "markdown",
   "metadata": {},
   "source": [
    "Now, we'll start new **col3_double** from **col3** by apply the double function."
   ]
  },
  {
   "cell_type": "code",
   "execution_count": 12,
   "metadata": {
    "scrolled": true
   },
   "outputs": [
    {
     "data": {
      "text/html": [
       "<div>\n",
       "<style>\n",
       "    .dataframe thead tr:only-child th {\n",
       "        text-align: right;\n",
       "    }\n",
       "\n",
       "    .dataframe thead th {\n",
       "        text-align: left;\n",
       "    }\n",
       "\n",
       "    .dataframe tbody tr th {\n",
       "        vertical-align: top;\n",
       "    }\n",
       "</style>\n",
       "<table border=\"1\" class=\"dataframe\">\n",
       "  <thead>\n",
       "    <tr style=\"text-align: right;\">\n",
       "      <th></th>\n",
       "      <th>col1</th>\n",
       "      <th>col2</th>\n",
       "      <th>col3</th>\n",
       "      <th>col3_double</th>\n",
       "    </tr>\n",
       "  </thead>\n",
       "  <tbody>\n",
       "    <tr>\n",
       "      <th>0</th>\n",
       "      <td>a</td>\n",
       "      <td>b</td>\n",
       "      <td>1</td>\n",
       "      <td>2</td>\n",
       "    </tr>\n",
       "    <tr>\n",
       "      <th>1</th>\n",
       "      <td>a</td>\n",
       "      <td>b</td>\n",
       "      <td>2</td>\n",
       "      <td>4</td>\n",
       "    </tr>\n",
       "    <tr>\n",
       "      <th>2</th>\n",
       "      <td>c</td>\n",
       "      <td>d</td>\n",
       "      <td>3</td>\n",
       "      <td>6</td>\n",
       "    </tr>\n",
       "  </tbody>\n",
       "</table>\n",
       "</div>"
      ],
      "text/plain": [
       "  col1 col2  col3  col3_double\n",
       "0    a    b     1            2\n",
       "1    a    b     2            4\n",
       "2    c    d     3            6"
      ]
     },
     "execution_count": 12,
     "metadata": {},
     "output_type": "execute_result"
    }
   ],
   "source": [
    "def double(x):\n",
    "    return x * 2\n",
    "\n",
    "df['col3_double'] = df.col3.apply(double)\n",
    "df"
   ]
  },
  {
   "cell_type": "markdown",
   "metadata": {},
   "source": [
    "More quickly with **lambda function** here:"
   ]
  },
  {
   "cell_type": "code",
   "execution_count": 14,
   "metadata": {},
   "outputs": [
    {
     "data": {
      "text/html": [
       "<div>\n",
       "<style>\n",
       "    .dataframe thead tr:only-child th {\n",
       "        text-align: right;\n",
       "    }\n",
       "\n",
       "    .dataframe thead th {\n",
       "        text-align: left;\n",
       "    }\n",
       "\n",
       "    .dataframe tbody tr th {\n",
       "        vertical-align: top;\n",
       "    }\n",
       "</style>\n",
       "<table border=\"1\" class=\"dataframe\">\n",
       "  <thead>\n",
       "    <tr style=\"text-align: right;\">\n",
       "      <th></th>\n",
       "      <th>col1</th>\n",
       "      <th>col2</th>\n",
       "      <th>col3</th>\n",
       "      <th>col3_double</th>\n",
       "    </tr>\n",
       "  </thead>\n",
       "  <tbody>\n",
       "    <tr>\n",
       "      <th>0</th>\n",
       "      <td>a</td>\n",
       "      <td>b</td>\n",
       "      <td>1</td>\n",
       "      <td>2</td>\n",
       "    </tr>\n",
       "    <tr>\n",
       "      <th>1</th>\n",
       "      <td>a</td>\n",
       "      <td>b</td>\n",
       "      <td>2</td>\n",
       "      <td>4</td>\n",
       "    </tr>\n",
       "    <tr>\n",
       "      <th>2</th>\n",
       "      <td>c</td>\n",
       "      <td>d</td>\n",
       "      <td>3</td>\n",
       "      <td>6</td>\n",
       "    </tr>\n",
       "  </tbody>\n",
       "</table>\n",
       "</div>"
      ],
      "text/plain": [
       "  col1 col2  col3  col3_double\n",
       "0    a    b     1            2\n",
       "1    a    b     2            4\n",
       "2    c    d     3            6"
      ]
     },
     "execution_count": 14,
     "metadata": {},
     "output_type": "execute_result"
    }
   ],
   "source": [
    "df['col3_double'] = df.col3.apply(lambda x: x * 2)\n",
    "df"
   ]
  },
  {
   "cell_type": "code",
   "execution_count": 18,
   "metadata": {
    "scrolled": false
   },
   "outputs": [
    {
     "data": {
      "text/plain": [
       "0    False\n",
       "1    False\n",
       "2     True\n",
       "Name: col3, dtype: bool"
      ]
     },
     "execution_count": 18,
     "metadata": {},
     "output_type": "execute_result"
    }
   ],
   "source": [
    "df.col3.map(lambda t: t > 2)"
   ]
  },
  {
   "cell_type": "markdown",
   "metadata": {},
   "source": [
    "# Python Recursion\n",
    "\n",
    "Recursion is the process of defining something in terms of itself.\n",
    "\n",
    "We know that in Python, a function can call other functions. It is even possible for the function to call itself. These type of construct are termed as recursive functions.\n",
    "\n",
    "Following is an example of recursive function to find the factorial of an integer.\n",
    "\n",
    "Factorial of a number is the product of all the integers from 1 to that number. For example, the factorial of 6 (denoted as 6!) is `1*2*3*4*5*6 = 720`.\n",
    "\n"
   ]
  },
  {
   "cell_type": "code",
   "execution_count": 20,
   "metadata": {},
   "outputs": [
    {
     "name": "stdout",
     "output_type": "stream",
     "text": [
      "The factorial of 4 is 24\n"
     ]
    }
   ],
   "source": [
    "def calc_factorial(x):\n",
    "    \"\"\"This is a recursive function\n",
    "    to find the factorial of an integer\"\"\"\n",
    "\n",
    "    if x == 1:\n",
    "        return 1\n",
    "    else:\n",
    "        return (x * calc_factorial(x-1))\n",
    "\n",
    "num = 4\n",
    "print \"The factorial of\", num, \"is\", calc_factorial(num)"
   ]
  },
  {
   "cell_type": "markdown",
   "metadata": {},
   "source": [
    "In the above example, **calc_factorial()** is a recursive functions as it calls itself.\n",
    "\n",
    "When we call this function with a positive integer, it will recursively call itself by decreasing the number.\n",
    "\n",
    "Each function call multiples the number with the factorial of number 1 until the number is equal to one. This recursive call can be explained in the following steps.\n",
    "\n",
    "```python\n",
    "calc_factorial(4)              # 1st call with 4\n",
    "4 * calc_factorial(3)          # 2nd call with 3\n",
    "4 * 3 * calc_factorial(2)      # 3rd call with 2\n",
    "4 * 3 * 2 * calc_factorial(1)  # 4th call with 1\n",
    "4 * 3 * 2 * 1                  # return from 4th call as number=1\n",
    "4 * 3 * 2                      # return from 3rd call\n",
    "4 * 6                          # return from 2nd call\n",
    "24                             # return from 1st call\n",
    "```"
   ]
  },
  {
   "cell_type": "markdown",
   "metadata": {},
   "source": [
    "Our recursion ends when the number reduces to 1. This is called the base condition.\n",
    "\n",
    "Every recursive function must have a base condition that stops the recursion or else the function calls itself infinitely.\n",
    "\n",
    "\n",
    "\n",
    "* Advantages of recursion\n",
    "    * Recursive functions make the code look clean and elegant.\n",
    "    * A complex task can be broken down into simpler sub-problems using recursion.\n",
    "    * Sequence generation is easier with recursion than using some nested iteration.\n",
    "* Disadvantages of recursion\n",
    "    * Sometimes the logic behind recursion is hard to follow through.\n",
    "    * Recursive calls are expensive (inefficient) as they take up a lot of memory and time.\n",
    "    * Recursive functions are hard to debug."
   ]
  },
  {
   "cell_type": "markdown",
   "metadata": {},
   "source": [
    "**Ex1:** Python Program to Display Fibonacci Sequence Using Recursion\n",
    "\n",
    "A Fibonacci sequence is the integer sequence of 0, 1, 1, 2, 3, 5, 8....\n",
    "\n",
    "```python\n",
    "def fibo_recursion(n):\n",
    "    # your code goes here\n",
    "\n",
    "for i in range(10):\n",
    "    print fibo(i), \n",
    "\n",
    "# Output: 0 1 1 2 3 5 8 13 21 34\n",
    "```"
   ]
  },
  {
   "cell_type": "markdown",
   "metadata": {},
   "source": [
    "\n",
    "\n",
    "**Ex2:** Find Sum of Natural Numbers Using Recursion\n",
    "\n",
    "```python\n",
    "def sum_recursion(n):\n",
    "    # your code goes here\n",
    "    \n",
    "print sum_recursion(10) # Sum of 1 + 2 + 3 + ... + 10\n",
    "\n",
    "# Output: 55\n",
    "```"
   ]
  },
  {
   "cell_type": "code",
   "execution_count": null,
   "metadata": {
    "collapsed": true
   },
   "outputs": [],
   "source": []
  }
 ],
 "metadata": {
  "kernelspec": {
   "display_name": "Python 2",
   "language": "python",
   "name": "python2"
  },
  "language_info": {
   "codemirror_mode": {
    "name": "ipython",
    "version": 2
   },
   "file_extension": ".py",
   "mimetype": "text/x-python",
   "name": "python",
   "nbconvert_exporter": "python",
   "pygments_lexer": "ipython2",
   "version": "2.7.13"
  }
 },
 "nbformat": 4,
 "nbformat_minor": 2
}
