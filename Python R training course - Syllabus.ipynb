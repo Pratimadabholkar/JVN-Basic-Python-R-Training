{
 "cells": [
  {
   "cell_type": "markdown",
   "metadata": {},
   "source": [
    "Python is nowadays become an active programming language used for scientic computing, especially it is widely used in data science.  Moreover, Pythonis totally free and prefered by a lot of companies.  Based on this signicantneed, we aim to provide the JVN students the most important knowledgein Python. \n",
    "\n",
    "\n",
    "Adapted  by  Volodymyr  Kuleshov  and  Isaac  Caswell  from  the  CS231n\n",
    "\n",
    "Python tutorial by Justin Johnson (http://cs231n.github.io/python-numpy-tutorial/).The theory is from MIT Opencourseware: A Gentle Introduction to Programming Using Python (http://ocw.mit.edu/courses/electrical-engineering-and-computer-science/6-189-a-gentle-introduction-to-programming-using-python-january-iap-2011/readings/)\n",
    "\n",
    "For the code convention :  PEP 8 — the Style Guide for Python Code -http://pep8.orgOnline Course, code Python in your browser https://www.datacamp.com/courses/intro-to-python-for-data-science\n",
    "\n",
    "# Lecture list\n",
    "\n",
    "1. Introduction to Python\n",
    "\n",
    "    * What and Why is Python: the signicance of Python in computer science, data science community and other fields.\n",
    "    * How to setup and access Python environment (e.g: install, start, stop). Students are required to be familiar with using command line to carry out some code.\n",
    "    * Simple Python convention (variables, constants, operations) and coding convention (naming variables).\n",
    "\n",
    "2. The Python Standard Library, if/loops statements\n",
    "\n",
    "    * Some useful and basic built-in functions (abs, etc.)\n",
    "    * How to use import to import libraries (ex: math, random). We will introduce you several basic libraries that are often used in Python.\n",
    "    * Introduce Comparison and Boolean Operators (if/else/while/for)\n",
    "    * Students are also introduced the concept of object-orientation in Python.\n",
    "\n",
    "3. Vector/matrix structures, \\textit{numpy} library\n",
    "\n",
    "    * Vector/matrix: structures in Python, some built-in functions, Operators for vector/matrix (access, comparation, search)\n",
    "    * Introduce to module Numpy\n",
    "\n",
    "4. Python data types, File Processing, \\textit{Pandas} library\n",
    "\n",
    "    * Introduce String/List and basic built-in functions and operators for String/List.\n",
    "    * Structure of Python files. Read/create a file.\n",
    "    * Read csv file using \\textit{Pandas} library\n",
    "\n",
    "5. Functions in Python, Debugging.\n",
    "\n",
    "    * What is functions and how to define functions in Python\n",
    "    * Passing Arguments to Functions\n",
    "    * Common errors in Python\n",
    "\n",
    "6. Introduction to R, R for Python programmers.\n",
    "\n",
    "    * From Python to R.\n",
    "    * Variable, using library, function in R\n",
    "\n",
    "7. Import data, plot data.\n",
    "\n",
    "    * Read csv file, quick summary.\n",
    "    * Plot data.\n",
    "\n",
    "8. Data Mining in Python/R."
   ]
  },
  {
   "cell_type": "code",
   "execution_count": null,
   "metadata": {
    "collapsed": true
   },
   "outputs": [],
   "source": []
  }
 ],
 "metadata": {
  "kernelspec": {
   "display_name": "Python 2",
   "language": "python",
   "name": "python2"
  },
  "language_info": {
   "codemirror_mode": {
    "name": "ipython",
    "version": 2
   },
   "file_extension": ".py",
   "mimetype": "text/x-python",
   "name": "python",
   "nbconvert_exporter": "python",
   "pygments_lexer": "ipython2",
   "version": "2.7.12"
  }
 },
 "nbformat": 4,
 "nbformat_minor": 2
}
