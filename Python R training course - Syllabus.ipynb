{
 "cells": [
  {
   "cell_type": "markdown",
   "metadata": {},
   "source": [
    "Python is nowadays become an active programming language used for scientic computing, especially it is widely used in data science.  Moreover, Pythonis totally free and prefered by a lot of companies.  Based on this signicantneed, we aim to provide the JVN students the most important knowledgein Python. \n",
    "\n",
    "\n",
    "Adapted  by  Volodymyr  Kuleshov  and  Isaac  Caswell  from  the  CS231n\n",
    "\n",
    "Python tutorial by Justin Johnson (http://cs231n.github.io/python-numpy-tutorial/).The theory is from MIT Opencourseware: A Gentle Introduction to Programming Using Python (http://ocw.mit.edu/courses/electrical-engineering-and-computer-science/6-189-a-gentle-introduction-to-programming-using-python-january-iap-2011/readings/)\n",
    "\n",
    "For the code convention :  PEP 8 — the Style Guide for Python Code -http://pep8.orgOnline Course, code Python in your browser https://www.datacamp.com/courses/intro-to-python-for-data-science\n",
    "\n",
    "# Lecture list\n",
    "\n",
    "1. Introduction to Python\n",
    "\n",
    "    * What and Why is Python: the signicance of Python in computer science, data science community and other fields.\n",
    "    * How to setup and access Python environment (e.g: install, start, stop). Students are required to be familiar with using command line to carry out some code.\n",
    "    * Simple Python convention (variables, constants, operations) and coding convention (naming variables).\n",
    "\n",
    "2. The Python Standard Library, if/loops statements\n",
    "\n",
    "    * Some useful and basic built-in functions (abs, etc.)\n",
    "    * How to use import to import libraries (ex: math, random). We will introduce you several basic libraries that are often used in Python.\n",
    "    * Introduce Comparison and Boolean Operators (if/else/while/for)\n",
    "    * Students are also introduced the concept of object-orientation in Python.\n",
    "\n",
    "3. Vector/matrix structures, \\textit{numpy} library\n",
    "\n",
    "    * Vector/matrix: structures in Python, some built-in functions, Operators for vector/matrix (access, comparation, search)\n",
    "    * Introduce to module Numpy\n",
    "\n",
    "4. Python data types, File Processing, \\textit{Pandas} library\n",
    "\n",
    "    * Introduce String/List and basic built-in functions and operators for String/List.\n",
    "    * Structure of Python files. Read/create a file.\n",
    "    * Read csv file using \\textit{Pandas} library\n",
    "\n",
    "5. Functions in Python, Debugging.\n",
    "\n",
    "    * What is functions and how to define functions in Python\n",
    "    * Passing Arguments to Functions\n",
    "    * Common errors in Python\n",
    "\n",
    "6. Introduction to R, R for Python programmers.\n",
    "\n",
    "    * From Python to R.\n",
    "    * Variable, using library, function in R\n",
    "\n",
    "7. Import data, plot data.\n",
    "\n",
    "    * Read csv file, quick summary.\n",
    "    * Plot data.\n",
    "\n",
    "8. Data Mining in Python/R."
   ]
  },
  {
   "cell_type": "markdown",
   "metadata": {},
   "source": [
    "# Introduction to Python\n",
    "\n",
    "Python is a great general-purpose programming language on its own,  butwith the help of a few popular libraries (*numpy, scipy, matplotlib*) it becomesa powerful environment for scientific computing.\n",
    "\n",
    "## Why we choose Python\n",
    "### Popular\n",
    "\n",
    "Python is a general-use high-level programming language that bills itself aspowerful,  fast,  friendly,  open,  and easy to learn.  Python “plays well withothers” and “runs everywhere”.\n",
    "\n",
    "Bank of America uses Python to crunch financial data.  The TheoreticalPhysics Division of Los Alamos National Laboratory chose Python to notonly  control  simulations,  but  also  analyze  and  visualize  data.   Facebookturns to the Python library Pandas for its data analysis because it sees thebenefit of using one programming language across multiple applications.\n",
    "\n",
    "## Simple\n",
    "Python is easy to use, powerful, and versatile, making it a great choice for beginners and experts alike. Python’s readability makes it a great first programming language — it allows you to think like a programmer and not waste time understanding the mysterious syntax that other programming languages can require.\n",
    "\n",
    "## Write once run every where\n",
    "Supporting Operate System : Windows, Linux/Unix, MacOS\n",
    "\n",
    "## References\n",
    "\n",
    "* http://www.mastersindatascience.org/data-scientist-skills/python/\n",
    "* https://www.codeschool.com/blog/2016/01/27/why-python/\n",
    "* https://www.quora.com/Why-is-Python-a-language-of-choice-for-data-scientists\n",
    "* http://www.kdnuggets.com/2015/05/r-vs-python-data-science.html\n"
   ]
  },
  {
   "cell_type": "markdown",
   "metadata": {},
   "source": [
    "# Install Python\n",
    "\n",
    "We highly recommend all of you install Anaconda Python \\url{https://www.continuum.io/downloads}\n",
    "\n",
    "![](figs/session_1/anaconda.png)\n",
    "\n",
    "Benefit when using Python Anaconda:\n",
    "\n",
    "*  Easy setup and install a stable environment for Python programming.\n",
    "*  720+ data science packages for interactive data visualizations, machine learning,\n",
    "deep learning and Big Data.\n",
    "*  World-class package, dependency and environment management.\n",
    "\n",
    "# Basics of Python\n",
    "\n",
    "Python is a high-level, dynamically typed multiparadigm programming language. Python code\n",
    "is often said to be almost like pseudocode, since it allows you to express very powerful ideas in very few lines of code while being very readable. As an example, here is an implementation of the classic quicksort algorithm in Python"
   ]
  },
  {
   "cell_type": "code",
   "execution_count": 9,
   "metadata": {},
   "outputs": [
    {
     "name": "stdout",
     "output_type": "stream",
     "text": [
      "[1, 1, 2, 3, 6, 8, 10]\n"
     ]
    }
   ],
   "source": [
    "def quicksort(arr):\n",
    "    '''\n",
    "    quicksort function\n",
    "    '''\n",
    "    if len(arr) <= 1:\n",
    "        return arr\n",
    "    \n",
    "    pivot = arr[len(arr) / 2]\n",
    "    left = [x for x in arr if x < pivot]\n",
    "    middle = [x for x in arr if x == pivot]\n",
    "    right = [x for x in arr if x > pivot]\n",
    "    \n",
    "    return quicksort(left) + middle + quicksort(right)\n",
    "\n",
    "print quicksort([3,6,8,10,1,2,1])"
   ]
  },
  {
   "cell_type": "markdown",
   "metadata": {},
   "source": [
    "There are currently two different supported versions of Python, 2.7 and 3.4. Somewhat confus-\n",
    "ingly, Python 3.0 introduced many backwards-incompatible changes to the language, so code\n",
    "written for 2.7 may not work under 3.4 and vice versa. For this class all code will use Python\n",
    "2.7.\n",
    "\n",
    "You can check your Python version at the command line by running `python --version`."
   ]
  },
  {
   "cell_type": "markdown",
   "metadata": {},
   "source": [
    "## Variables, expressions and statements\n",
    "\n",
    "Reference: http://www.greenteapress.com/thinkpython/thinkCSpy/html/chap02.html\n",
    "\n",
    "### Values and types\n",
    "\n",
    "A value is one of the fundamental things like a letter or a number that a program manipulates. The values we have seen so far are 2 (the result when we added `1 + 1`), and `'Hello, World!'`.\n"
   ]
  },
  {
   "cell_type": "code",
   "execution_count": 4,
   "metadata": {},
   "outputs": [
    {
     "data": {
      "text/plain": [
       "2"
      ]
     },
     "execution_count": 4,
     "metadata": {},
     "output_type": "execute_result"
    }
   ],
   "source": [
    "1 + 1"
   ]
  },
  {
   "cell_type": "code",
   "execution_count": 5,
   "metadata": {
    "scrolled": true
   },
   "outputs": [
    {
     "data": {
      "text/plain": [
       "'Hello, World!'"
      ]
     },
     "execution_count": 5,
     "metadata": {},
     "output_type": "execute_result"
    }
   ],
   "source": [
    "'Hello, World!'"
   ]
  },
  {
   "cell_type": "markdown",
   "metadata": {},
   "source": [
    "These values belong to different **types**: `2` is an **integer**, and `'Hello, World!'` is a **string**, so-called because it contains a \"string\" of letters.\n",
    "\n",
    "The print statement also works for integers:"
   ]
  },
  {
   "cell_type": "code",
   "execution_count": 6,
   "metadata": {},
   "outputs": [
    {
     "name": "stdout",
     "output_type": "stream",
     "text": [
      "2\n"
     ]
    }
   ],
   "source": [
    "print 2"
   ]
  },
  {
   "cell_type": "markdown",
   "metadata": {},
   "source": [
    "If you are not sure what type a value has, the interpreter can tell you."
   ]
  },
  {
   "cell_type": "code",
   "execution_count": 8,
   "metadata": {},
   "outputs": [
    {
     "name": "stdout",
     "output_type": "stream",
     "text": [
      "<type 'str'>\n",
      "<type 'int'>\n"
     ]
    }
   ],
   "source": [
    "print type('17') \n",
    "print type(17)"
   ]
  },
  {
   "cell_type": "markdown",
   "metadata": {},
   "source": [
    "### Variables\n",
    "A variable is a name that refers to a value. The **assignment statement** creates new variables and gives them values:"
   ]
  },
  {
   "cell_type": "code",
   "execution_count": 14,
   "metadata": {
    "collapsed": true
   },
   "outputs": [],
   "source": [
    "message = \"JVN\"\n",
    "n = 10"
   ]
  },
  {
   "cell_type": "code",
   "execution_count": 15,
   "metadata": {},
   "outputs": [
    {
     "name": "stdout",
     "output_type": "stream",
     "text": [
      "JVN\n"
     ]
    }
   ],
   "source": [
    "print message"
   ]
  },
  {
   "cell_type": "code",
   "execution_count": 17,
   "metadata": {},
   "outputs": [
    {
     "name": "stdout",
     "output_type": "stream",
     "text": [
      "Hi, JVN\n"
     ]
    }
   ],
   "source": [
    "print \"Hi, \" + message"
   ]
  },
  {
   "cell_type": "markdown",
   "metadata": {},
   "source": [
    "### Variable names and keywords\n",
    "\n",
    "Programmers generally choose names for their variables that are meaningful they document what the variable is used for.\n",
    "\n",
    "Variable names can be arbitrarily long. They can contain both letters and numbers, but:\n",
    "* they have to begin with a letter. Although it is legal to use uppercase letters, by convention we don't.\n",
    "* `JVN` and `Jvn` are different variables.\n",
    "* the underscore character (_) can appear in a name. Such as `my_name` or `_n`\n",
    "\n",
    "If you give a variable an illegal name, you get a syntax error:"
   ]
  },
  {
   "cell_type": "code",
   "execution_count": 18,
   "metadata": {},
   "outputs": [
    {
     "ename": "SyntaxError",
     "evalue": "invalid syntax (<ipython-input-18-a5f509298d77>, line 1)",
     "output_type": "error",
     "traceback": [
      "\u001b[0;36m  File \u001b[0;32m\"<ipython-input-18-a5f509298d77>\"\u001b[0;36m, line \u001b[0;32m1\u001b[0m\n\u001b[0;31m    76trombones = 'big parade'\u001b[0m\n\u001b[0m              ^\u001b[0m\n\u001b[0;31mSyntaxError\u001b[0m\u001b[0;31m:\u001b[0m invalid syntax\n"
     ]
    }
   ],
   "source": [
    "76trombones = 'big parade'"
   ]
  },
  {
   "cell_type": "code",
   "execution_count": 22,
   "metadata": {},
   "outputs": [
    {
     "ename": "SyntaxError",
     "evalue": "invalid syntax (<ipython-input-22-07be154a2b96>, line 1)",
     "output_type": "error",
     "traceback": [
      "\u001b[0;36m  File \u001b[0;32m\"<ipython-input-22-07be154a2b96>\"\u001b[0;36m, line \u001b[0;32m1\u001b[0m\n\u001b[0;31m    while = 1000000\u001b[0m\n\u001b[0m          ^\u001b[0m\n\u001b[0;31mSyntaxError\u001b[0m\u001b[0;31m:\u001b[0m invalid syntax\n"
     ]
    }
   ],
   "source": [
    "while = 1000000"
   ]
  },
  {
   "cell_type": "markdown",
   "metadata": {},
   "source": [
    "It turns out that class is one of the Python **keywords**. Keywords define the language's rules and structure, and they cannot be used as variable names.\n",
    "\n",
    "Python has twenty-nine keywords:\n",
    "\n",
    "```\n",
    "and       def       exec      if        not       return \n",
    "assert    del       finally   import    or        try \n",
    "break     elif      for       in        pass      while \n",
    "class     else      from      is        print     yield \n",
    "continue  except    global    lambda    raise \n",
    "```"
   ]
  },
  {
   "cell_type": "markdown",
   "metadata": {},
   "source": [
    "### Operators and operands\n",
    "\n",
    "Operators are special symbols that represent computations like addition and multiplication. The values the operator uses are called operands.\n",
    "\n",
    "The following are all legal Python expressions whose meaning is more or less clear:\n",
    "\n"
   ]
  },
  {
   "cell_type": "code",
   "execution_count": null,
   "metadata": {
    "collapsed": true
   },
   "outputs": [],
   "source": []
  },
  {
   "cell_type": "code",
   "execution_count": null,
   "metadata": {
    "collapsed": true
   },
   "outputs": [],
   "source": []
  },
  {
   "cell_type": "code",
   "execution_count": null,
   "metadata": {
    "collapsed": true
   },
   "outputs": [],
   "source": []
  },
  {
   "cell_type": "code",
   "execution_count": null,
   "metadata": {
    "collapsed": true
   },
   "outputs": [],
   "source": []
  }
 ],
 "metadata": {
  "kernelspec": {
   "display_name": "Python 2",
   "language": "python",
   "name": "python2"
  },
  "language_info": {
   "codemirror_mode": {
    "name": "ipython",
    "version": 2
   },
   "file_extension": ".py",
   "mimetype": "text/x-python",
   "name": "python",
   "nbconvert_exporter": "python",
   "pygments_lexer": "ipython2",
   "version": "2.7.12"
  }
 },
 "nbformat": 4,
 "nbformat_minor": 2
}
